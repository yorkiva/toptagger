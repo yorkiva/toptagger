{
 "cells": [
  {
   "cell_type": "code",
   "execution_count": 7,
   "id": "93fb7938",
   "metadata": {},
   "outputs": [],
   "source": [
    "import pandas as pd\n",
    "from keras.models import load_model\n",
    "import numpy as np\n",
    "import sklearn\n",
    "from sklearn.metrics import roc_curve\n",
    "\n",
    "k_batch_size = 96\n",
    "\n",
    "df_test = pd.read_pickle(\"../../datasets/topoprocessed/test.pkl\")\n",
    "x_test = df_test.loc[:, df_test.columns != 'is_signal_new']\n",
    "y_test = df_test[\"is_signal_new\"]\n",
    "del df_test\n",
    "\n",
    "df_train = pd.read_pickle(\"../../datasets/topoprocessed/train.pkl\")\n",
    "df_val = pd.read_pickle(\"../../datasets/topoprocessed/val.pkl\")\n",
    "x_val = df_val.loc[:, df_train.columns != 'is_signal_new']\n",
    "y_val = df_val[\"is_signal_new\"]\n",
    "del df_train\n",
    "del df_val\n",
    "\n",
    "#Can change to '', '_pt0','_pt', '_30', or '_standardize_pt'\n",
    "mode = '_30'\n",
    "if mode == '_pt0':\n",
    "    #Get rid of pt_0 column\n",
    "    x_test = x_test.loc[:, x_test.columns != 'pt_0']\n",
    "    x_val = x_val.loc[:, x_val.columns != 'pt_0']\n",
    "elif mode == '_pt':\n",
    "    pt_cols = [col for col in x_test.columns if 'pt' in col]\n",
    "    x_test = x_test.drop(pt_cols, axis=1)\n",
    "    x_val = x_val.drop(pt_cols, axis=1)\n",
    "elif mode == '_30':\n",
    "    x_test = x_test.iloc[:,:30]\n",
    "    x_val = x_val.iloc[:,:30]\n",
    "elif mode == '_standardize_pt':\n",
    "    pt_cols = [col for col in x_test.columns if 'pt' in col]\n",
    "    x_test[pt_cols] = (x_test[pt_cols] - x_test[pt_cols].mean())/x_test[pt_cols].std()\n",
    "    x_val[pt_cols] = (x_val[pt_cols] - x_val[pt_cols].mean())/x_val[pt_cols].std()\n",
    "\n",
    "model = load_model('topodnnmodels/topodnnmodel' + mode)"
   ]
  },
  {
   "cell_type": "code",
   "execution_count": 8,
   "id": "7a72d394",
   "metadata": {},
   "outputs": [
    {
     "name": "stdout",
     "output_type": "stream",
     "text": [
      "Performance on validation set\n",
      "4198/4198 [==============================] - 3s 752us/step - loss: 0.2446 - accuracy: 0.8945\n",
      "Loss: 0.24460259079933167\n",
      "Acc: 0.8944640159606934\n",
      "12594/12594 [==============================] - 7s 577us/step\n",
      "Background rejection at 30\\% signal efficiency:266.1862615587847\n",
      "Background rejection at 50\\% signal efficiency:83.61120331950207\n",
      "Background rejection at 80\\% signal efficiency:16.512578874047367\n",
      "AUC:0.9617752759676121\n",
      "Performance on test set\n",
      "4209/4209 [==============================] - 3s 747us/step - loss: 0.2435 - accuracy: 0.8946\n",
      "Loss: 0.24348796904087067\n",
      "Acc: 0.8946484923362732\n",
      "12625/12625 [==============================] - 7s 583us/step\n",
      "Background rejection at 30\\% signal efficiency:277.7359009628611\n",
      "Background rejection at 50\\% signal efficiency:90.54439461883408\n",
      "Background rejection at 80\\% signal efficiency:16.80935730935731\n",
      "AUC:0.962256047025922\n"
     ]
    }
   ],
   "source": [
    "def evaluate_model(model, x_val, y_val):\n",
    "    score = model.evaluate(x_val, y_val, batch_size=k_batch_size)\n",
    "    print(\"Loss: \"+str(score[0]))\n",
    "    print(\"Acc: \"+str(score[1]))\n",
    "    \n",
    "    fpr, tpr, thresholds = roc_curve(\n",
    "            y_val, model.predict(x_val).ravel())\n",
    "    \n",
    "    rej_at_30_marker  = None\n",
    "    rej_at_50_marker  = None\n",
    "    rej_at_80_marker  = None\n",
    "\n",
    "    for i in range(len(fpr)):\n",
    "        if(tpr[i] >= .30 and rej_at_30_marker is None):\n",
    "            rej_at_30_marker = 1 / fpr[i]\n",
    "            print(\"Background rejection at 30\\% signal efficiency:\" +\n",
    "                        str(rej_at_30_marker))\n",
    "        if(tpr[i] >= .50 and rej_at_50_marker is None):\n",
    "            rej_at_50_marker = 1 / fpr[i]\n",
    "            print(\"Background rejection at 50\\% signal efficiency:\" +\n",
    "                        str(rej_at_50_marker))\n",
    "        if(tpr[i] >= .80 and rej_at_80_marker is None):\n",
    "            rej_at_80_marker = 1 / fpr[i]\n",
    "            print( \"Background rejection at 80\\% signal efficiency:\" +\n",
    "                   str(rej_at_80_marker))\n",
    "    current = sklearn.metrics.auc(fpr, tpr)\n",
    "    print(\"AUC:\"+str(current))\n",
    "    return fpr,tpr,current\n",
    "    \n",
    "print(\"Performance on validation set\")\n",
    "_ = evaluate_model(model,x_val,y_val)\n",
    "print(\"Performance on test set\")\n",
    "_ = evaluate_model(model,x_test,y_test)"
   ]
  },
  {
   "cell_type": "code",
   "execution_count": 6,
   "id": "3f1d73a5",
   "metadata": {},
   "outputs": [],
   "source": [
    "#Saves prediction values\n",
    "to_save = model.predict(x_test)\n",
    "#np.save('preds/topodnn' + mode + '.npy',to_save.ravel())"
   ]
  },
  {
   "cell_type": "code",
   "execution_count": null,
   "id": "8cab4e74",
   "metadata": {},
   "outputs": [],
   "source": []
  }
 ],
 "metadata": {
  "kernelspec": {
   "display_name": "Python 3 (ipykernel)",
   "language": "python",
   "name": "python3"
  },
  "language_info": {
   "codemirror_mode": {
    "name": "ipython",
    "version": 3
   },
   "file_extension": ".py",
   "mimetype": "text/x-python",
   "name": "python",
   "nbconvert_exporter": "python",
   "pygments_lexer": "ipython3",
   "version": "3.9.12"
  }
 },
 "nbformat": 4,
 "nbformat_minor": 5
}
