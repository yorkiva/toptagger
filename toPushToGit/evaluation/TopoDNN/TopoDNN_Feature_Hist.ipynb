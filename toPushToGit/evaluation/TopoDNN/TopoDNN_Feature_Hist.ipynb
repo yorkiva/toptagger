{
 "cells": [
  {
   "cell_type": "code",
   "execution_count": 1,
   "id": "f89736d4",
   "metadata": {},
   "outputs": [],
   "source": [
    "import numpy as np\n",
    "import pandas as pd\n",
    "import matplotlib.pyplot as plt"
   ]
  },
  {
   "cell_type": "code",
   "execution_count": null,
   "id": "2c759205",
   "metadata": {},
   "outputs": [],
   "source": [
    "df_test = pd.read_pickle(\"../../datasets/topoprocessed/test.pkl\")\n",
    "pt_cols = [col for col in df_test.columns if 'pt' in col]\n",
    "\n",
    "sig_test = df_test.loc[df_test['is_signal_new'] == 1, df_test.columns != 'is_signal_new']\n",
    "bkg_test = df_test.loc[df_test['is_signal_new'] == 0, df_test.columns != 'is_signal_new']\n",
    "del df_test\n",
    "\n",
    "df_train = pd.read_pickle(\"../../datasets/topoprocessed/train.pkl\")\n",
    "df_val = pd.read_pickle(\"../../datasets/topoprocessed/val.pkl\")\n",
    "\n",
    "sig_train = df_train.loc[df_train['is_signal_new'] == 1, df_train.columns != 'is_signal_new']\n",
    "bkg_train = df_train.loc[df_train['is_signal_new'] == 0, df_train.columns != 'is_signal_new']\n",
    "sig_val = df_val.loc[df_val['is_signal_new'] == 1, df_val.columns != 'is_signal_new']\n",
    "bkg_val = df_val.loc[df_val['is_signal_new'] == 0, df_val.columns != 'is_signal_new']\n",
    "del df_train\n",
    "del df_val"
   ]
  },
  {
   "cell_type": "code",
   "execution_count": null,
   "id": "e748ff2d",
   "metadata": {},
   "outputs": [],
   "source": [
    "pd.read_pickle(\"../../datasets/topoprocessed/val.pkl\")"
   ]
  },
  {
   "cell_type": "code",
   "execution_count": null,
   "id": "34a42a68",
   "metadata": {},
   "outputs": [],
   "source": [
    "#Calculate Histograms of Train/Test/Val Feature Distributions"
   ]
  },
  {
   "cell_type": "code",
   "execution_count": null,
   "id": "f65a95d2",
   "metadata": {},
   "outputs": [],
   "source": [
    "feats_to_plot = ['phi_1', 'phi_2', 'eta_1', 'pt_0']\n",
    "for feat in feats_to_plot:\n",
    "    plt.figure(figsize=(8,8))\n",
    "    plt.hist(sig_test.iloc[:, sig_train.column==feat], bins = 50, label = 'signal', alpha=0.5)\n",
    "    plt.hist(bkg_test.iloc[:, sig_train.column==feat], bins = 50, label = 'signal', alpha=0.5)\n",
    "    plt.xlabel(feat, fontsize=20)\n",
    "    plt.ylabel(\"Number of Events\", fontsize = 20)\n",
    "    plt.tick_params(axis='both', which='major', labelsize=20)\n",
    "    plt.legend(fontsize = 20)\n",
    "    plt.tight_layout()\n",
    "    plt.savefig(\"figures/FeatDist_TopoDNN_{}.png\".format(feat))"
   ]
  },
  {
   "cell_type": "code",
   "execution_count": null,
   "id": "fb086741",
   "metadata": {},
   "outputs": [],
   "source": [
    "#Train feature distribtuions\n",
    "n_bins = 100\n",
    "plt.style.use('seaborn-deep')\n",
    "f, a = plt.subplots(2, 1, constrained_layout=True, figsize=(10,20))\n",
    "f.suptitle('Training Feature Distributions', fontsize=16)\n",
    "a = a.ravel()\n",
    "for idx,ax in enumerate(a):\n",
    "    #ax.axes.yaxis.set_ticklabels([])\n",
    "    ax.hist(sig_train.iloc[:, idx+60], bins=n_bins, alpha=0.5, label = 'Signal')\n",
    "    ax.hist(bkg_train.iloc[:, idx+60], bins=n_bins, alpha=0.5, label = 'Bkg')\n",
    "    ax.set_title(sig_train.columns[idx+60])\n",
    "    ax.legend(loc='upper right')\n",
    "#Saves feature distribution\n",
    "#plt.savefig('figures/train_features.png', dpi = 150, bbox_inches = 'tight')"
   ]
  },
  {
   "cell_type": "code",
   "execution_count": null,
   "id": "aa44911a",
   "metadata": {},
   "outputs": [],
   "source": [
    "#Test feature distribtuions\n",
    "n_bins = 100\n",
    "plt.style.use('seaborn-deep')\n",
    "f, a = plt.subplots(4, 3, constrained_layout=True, figsize=(15,20))\n",
    "f.suptitle('Test Feature Distributions', fontsize=16)\n",
    "a = a.ravel()\n",
    "for idx,ax in enumerate(a):\n",
    "    #ax.axes.yaxis.set_ticklabels([])\n",
    "    ax.hist(sig_test.iloc[:, idx], bins=n_bins, alpha=0.5, label = 'Signal')\n",
    "    ax.hist(bkg_test.iloc[:, idx], bins=n_bins, alpha=0.5, label = 'Bkg')\n",
    "    ax.set_title(sig_train.columns[idx])\n",
    "    ax.legend(loc='upper right')\n",
    "#Saves feature distribution\n",
    "#plt.savefig('figures/test_features.png', dpi = 150, bbox_inches = 'tight')"
   ]
  },
  {
   "cell_type": "code",
   "execution_count": null,
   "id": "28fadda5",
   "metadata": {},
   "outputs": [],
   "source": [
    "#Val feature distribtuions\n",
    "n_bins = 100\n",
    "plt.style.use('seaborn-deep')\n",
    "f, a = plt.subplots(4, 3, constrained_layout=True, figsize=(15,20))\n",
    "f.suptitle('Validation Feature Distributions', fontsize=16)\n",
    "a = a.ravel()\n",
    "for idx,ax in enumerate(a):\n",
    "    #ax.axes.yaxis.set_ticklabels([])\n",
    "    ax.hist(sig_val.iloc[:, idx], bins=n_bins, alpha=0.5, label = 'Signal')\n",
    "    ax.hist(bkg_val.iloc[:, idx], bins=n_bins, alpha=0.5, label = 'Bkg')\n",
    "    ax.set_title(sig_train.columns[idx])\n",
    "    ax.legend(loc='upper right')\n",
    "#Saves feature distribution\n",
    "#plt.savefig('figures/val_features.png', dpi = 150, bbox_inches = 'tight')"
   ]
  },
  {
   "cell_type": "code",
   "execution_count": null,
   "id": "9b5d02ee",
   "metadata": {},
   "outputs": [],
   "source": []
  }
 ],
 "metadata": {
  "kernelspec": {
   "display_name": "Python 3 (ipykernel)",
   "language": "python",
   "name": "python3"
  },
  "language_info": {
   "codemirror_mode": {
    "name": "ipython",
    "version": 3
   },
   "file_extension": ".py",
   "mimetype": "text/x-python",
   "name": "python",
   "nbconvert_exporter": "python",
   "pygments_lexer": "ipython3",
   "version": "3.9.12"
  }
 },
 "nbformat": 4,
 "nbformat_minor": 5
}
