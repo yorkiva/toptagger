{
 "cells": [
  {
   "cell_type": "code",
   "execution_count": 1,
   "id": "28562814",
   "metadata": {},
   "outputs": [],
   "source": [
    "from keras.models import load_model\n",
    "import pandas as pd\n",
    "import pickle\n",
    "import tensorflow as tf\n",
    "import numpy as np\n",
    "import keras\n",
    "import matplotlib.pyplot as plt\n",
    "import shap\n",
    "import seaborn as sns"
   ]
  },
  {
   "cell_type": "code",
   "execution_count": 2,
   "id": "e1bc94da",
   "metadata": {},
   "outputs": [
    {
     "name": "stderr",
     "output_type": "stream",
     "text": [
      "2022-08-15 15:46:04.393630: W tensorflow/stream_executor/platform/default/dso_loader.cc:64] Could not load dynamic library 'libcusolver.so.11'; dlerror: libcusolver.so.11: cannot open shared object file: No such file or directory; LD_LIBRARY_PATH: /opt/rh/devtoolset-9/root/usr/lib64:/opt/rh/devtoolset-9/root/usr/lib:/opt/rh/devtoolset-9/root/usr/lib64/dyninst:/opt/rh/devtoolset-9/root/usr/lib/dyninst:/opt/rh/devtoolset-9/root/usr/lib64:/opt/rh/devtoolset-9/root/usr/lib\n",
      "2022-08-15 15:46:04.394335: W tensorflow/core/common_runtime/gpu/gpu_device.cc:1850] Cannot dlopen some GPU libraries. Please make sure the missing libraries mentioned above are installed properly if you would like to use GPU. Follow the guide at https://www.tensorflow.org/install/gpu for how to download and setup the required libraries for your platform.\n",
      "Skipping registering GPU devices...\n",
      "2022-08-15 15:46:04.394876: I tensorflow/core/platform/cpu_feature_guard.cc:193] This TensorFlow binary is optimized with oneAPI Deep Neural Network Library (oneDNN) to use the following CPU instructions in performance-critical operations:  AVX2 FMA\n",
      "To enable them in other operations, rebuild TensorFlow with the appropriate compiler flags.\n"
     ]
    }
   ],
   "source": [
    "#Loading data\n",
    "df_test = pd.read_pickle(\"../../datasets/topoprocessed/test.pkl\")\n",
    "\n",
    "#Can change to '', '_pt0','_pt', '_30', or '_standardize_pt'\n",
    "mode = '_standardize_pt'\n",
    "#Load model\n",
    "model = load_model(\"../../models/TopoDNN/topodnnmodels/topodnnmodel\"+mode)\n"
   ]
  },
  {
   "cell_type": "code",
   "execution_count": 3,
   "id": "a563343c",
   "metadata": {},
   "outputs": [
    {
     "name": "stdout",
     "output_type": "stream",
     "text": [
      "Model: \"sequential\"\n",
      "_________________________________________________________________\n",
      " Layer (type)                Output Shape              Param #   \n",
      "=================================================================\n",
      " dense (Dense)               (None, 300)               27300     \n",
      "                                                                 \n",
      " activation (Activation)     (None, 300)               0         \n",
      "                                                                 \n",
      " dense_1 (Dense)             (None, 102)               30702     \n",
      "                                                                 \n",
      " activation_1 (Activation)   (None, 102)               0         \n",
      "                                                                 \n",
      " dense_2 (Dense)             (None, 12)                1236      \n",
      "                                                                 \n",
      " activation_2 (Activation)   (None, 12)                0         \n",
      "                                                                 \n",
      " dense_3 (Dense)             (None, 6)                 78        \n",
      "                                                                 \n",
      " activation_3 (Activation)   (None, 6)                 0         \n",
      "                                                                 \n",
      " dense_4 (Dense)             (None, 1)                 7         \n",
      "                                                                 \n",
      " activation_4 (Activation)   (None, 1)                 0         \n",
      "                                                                 \n",
      "=================================================================\n",
      "Total params: 59,323\n",
      "Trainable params: 59,323\n",
      "Non-trainable params: 0\n",
      "_________________________________________________________________\n"
     ]
    }
   ],
   "source": [
    "model.summary()"
   ]
  },
  {
   "cell_type": "code",
   "execution_count": 4,
   "id": "ad1fe342",
   "metadata": {},
   "outputs": [],
   "source": [
    "def removeOutliers(x, outlierConstant=1.5):\n",
    "    quantiles = np.nanquantile(x, (0.25, 0.75),axis=0)\n",
    "    IQR = (quantiles[1]-quantiles[0])*1.5\n",
    "    result = np.where((x>=quantiles[0]-IQR)&(x<=quantiles[1]+IQR), x, 0)\n",
    "    \n",
    "    return result\n",
    "\n",
    "#part_dataset: Choose from 'sig' or 'bkg'\n",
    "#zero_bias: Choose whether to do zero_bias on LRP\n",
    "#lrp_type: Choose from 'zero', 'epsilon', 'gamma', for LRP-zero, LRP-epsilon, LRP-gamma\n",
    "#graphs specify which graphs you want in a list. You can only choose from 'abs_bar', 'bar', 'dist', \n",
    "# 'corr',\n",
    "# save details whether you want to save it or not\n",
    "def make_graphs(model, mode, df_test, part_dataset, zero_bias=False, lrp_type='zero', lrp_param=None,\n",
    "               graphs=['abs_bar', 'bar', 'dist', 'corr_matrix'], figsize=(10, 10), options = '', extra_name=False, save=False):\n",
    "    if extra_name:\n",
    "        if zero_bias:\n",
    "            options += '_zero_bias'\n",
    "        if lrp_type == 'gamma':\n",
    "            options += '_LRP-' + lrp_type + '_' + str(lrp_param)\n",
    "        elif lrp_type == 'epsilon':\n",
    "            options += '_LRP-' + lrp_type + '_' + str(lrp_param)\n",
    "        elif lrp_type == 'zero':\n",
    "            options += '_LRP-' + lrp_type\n",
    "    if part_dataset == 'sig':\n",
    "        X = df_test.loc[df_test['is_signal_new'] == 1, df_test.columns != 'is_signal_new']\n",
    "    elif part_dataset == 'bkg':\n",
    "        X = df_test.loc[df_test['is_signal_new'] == 0, df_test.columns != 'is_signal_new']\n",
    "\n",
    "    if mode == '_pt0':\n",
    "        #Get rid of pt_0 column\n",
    "        X = X.loc[:, X.columns != 'pt_0']\n",
    "    elif mode == '_pt':\n",
    "        pt_cols = [col for col in X.columns if 'pt' in col]\n",
    "        X = X.drop(pt_cols, axis=1)\n",
    "    elif mode == '_30':\n",
    "        X = X.iloc[:,:30]\n",
    "    elif mode == '_standardize_pt':\n",
    "        pt_cols = [col for col in X.columns if 'pt' in col]\n",
    "        X[pt_cols] = (X[pt_cols] - X[pt_cols].mean())/X[pt_cols].std()\n",
    "\n",
    "    classes = X.columns #column names\n",
    "    L= len(model.layers) #num layers\n",
    "    layers = model.layers\n",
    "    A = [X]+[None]*L\n",
    "    A[0] = tf.convert_to_tensor(A[0])\n",
    "    \n",
    "    #Calculates model's steps\n",
    "    idx = 0\n",
    "    for layer in model.layers:\n",
    "        #g=layer.get_config()['name']\n",
    "        #act = layer.get_config()['activation']\n",
    "        #h=layer.get_weights()\n",
    "        A[idx+1]=layer(A[idx])\n",
    "        idx+=1\n",
    "    #Clones model\n",
    "    cloned_model = keras.models.clone_model(model)\n",
    "    cloned_model.set_weights(model.get_weights())\n",
    "    cloned_layers = cloned_model.layers\n",
    "    #Combine Dense+Activation functions\n",
    "    B = [A[0], A[2], A[4], A[6], A[8], A[9]]\n",
    "    # Backpropagate relevance scores (LRP-gamma)\n",
    "    if lrp_type == 'zero':\n",
    "        rho = lambda p: p;                       incr = lambda z: z\n",
    "    elif lrp_type == 'gamma':\n",
    "        rho = lambda p: p + lrp_param*tf.nn.relu(p); incr = lambda z: z\n",
    "    elif lrp_type == 'epsilon':\n",
    "        rho = lambda p: p;                       incr = lambda z: z+lrp_param\n",
    "    R = [None]*5 + [B[-1]]\n",
    "    # Iterate over the layers in reverse order\n",
    "    for l in range(0,5)[::-1]:\n",
    "        with tf.GradientTape() as tape:\n",
    "            tape.watch(B[l])\n",
    "            #Transform weights\n",
    "            cloned_layers[2*l].set_weights([rho(cloned_layers[2*l].get_weights()[0]), rho(cloned_layers[2*l].get_weights()[1])])\n",
    "            #Execute forward pass\n",
    "            z = cloned_layers[2*l](B[l])\n",
    "            if l != 4:\n",
    "                z = incr(cloned_layers[2*l+1](z))\n",
    "            else:\n",
    "                z = incr(z)\n",
    "            #Gets rid of zeroes in denominators\n",
    "            inds_nz = z != 0\n",
    "            R1_sum = tf.reduce_sum(R[l+1])\n",
    "            R2_sum_nz = tf.reduce_sum(R[l+1][inds_nz])\n",
    "            R[l+1] = R[l+1]*R1_sum/R2_sum_nz\n",
    "            z = tf.where(tf.identity(z) == 0, 1, z)\n",
    "            R[l + 1] = tf.where(tf.identity(z) == 0, 0, R[l+1])\n",
    "            # Element-wise division between relevance of the next layer and z\n",
    "            s = (R[l+1]/z)\n",
    "\n",
    "\n",
    "            s = tf.reshape(s, z.shape)\n",
    "            # Calculate the gradient and multiply it by the activation\n",
    "            c = tape.gradient(tf.reduce_sum(z*s.numpy()), B[l])\n",
    "            # Assign new relevance values\n",
    "            R[l] = (B[l]*c)\n",
    "            \n",
    "    \n",
    "    #Plots relevances as normalized\n",
    "    normal_rel = np.empty_like(R[0])\n",
    "    #Normalizes relevances for each sample\n",
    "    normal_rel = (R[0]/np.sum(R[0], 1)[:, np.newaxis]).numpy()\n",
    "\n",
    "    if part_dataset == 'sig': \n",
    "        type_set = 'Signal'\n",
    "    else: \n",
    "        type_set = 'Background'\n",
    "    idx=0\n",
    "    if 'abs_bar' in graphs:\n",
    "        normal_rel_no_outlier = removeOutliers(normal_rel)\n",
    "        plt.figure(idx, figsize=figsize)\n",
    "        abs_relevances = np.nanmean(np.abs(normal_rel_no_outlier), 0) #Takes mean across all jets\n",
    "        df_rel = pd.DataFrame(dict(params=classes, rels=abs_relevances))\n",
    "        df_rel_sorted = df_rel.sort_values('rels') #Sorts relevance values\n",
    "        # creating the abs bar plot\n",
    "        max_display = 20\n",
    "        plt.barh('params', 'rels', data = df_rel_sorted.tail(max_display), color ='blue')\n",
    "        plt.tight_layout()\n",
    "        plt.xlabel(\"Relevance Score\")\n",
    "        plt.ylabel(\"Parameters\")\n",
    "        plt.title(\"TopoDNN Absolute Value \"+type_set+\" LRP values\")\n",
    "        idx+=1\n",
    "        if save:\n",
    "            plt.savefig(\"figures/TopoDNN\"+mode+\"/LRP_\"+part_dataset+\"_absbar\"+options+\".png\", dpi = 150, bbox_inches='tight')\n",
    "        plt.show()\n",
    "        if idx == len(graphs):\n",
    "            return\n",
    "    if 'bar' in graphs:\n",
    "        normal_rel_no_outlier = removeOutliers(normal_rel)\n",
    "        plt.figure(idx, figsize=figsize)\n",
    "        abs_relevances = np.nanmean(normal_rel_no_outlier, 0) #Takes mean across all jets\n",
    "        df_rel = pd.DataFrame(dict(params=classes, rels=abs_relevances))\n",
    "        df_rel_sorted = df_rel.sort_values('rels') #Sorts relevance values\n",
    "        # creating the abs bar plot\n",
    "        max_display = 20\n",
    "        plt.barh('params', 'rels', data = df_rel_sorted.tail(max_display), color ='blue')\n",
    "        plt.xlabel(\"Relevance Score\")\n",
    "        plt.ylabel(\"Parameters\")\n",
    "        plt.title(\"TopoDNN \"+type_set+\" LRP values\")\n",
    "        plt.tight_layout()\n",
    "        idx+=1\n",
    "        if save:\n",
    "            plt.savefig(\"figures/TopoDNN\"+mode+\"/LRP_\"+part_dataset+\"_bar\"+options+\".png\", dpi = 150, bbox_inches='tight')\n",
    "        plt.show()\n",
    "        if idx == len(graphs):\n",
    "            return\n",
    "    if 'dist' in  graphs:\n",
    "        normal_rel_no_outlier = removeOutliers(normal_rel)\n",
    "        plt.figure(idx, figsize=figsize)\n",
    "        shap.summary_plot(normal_rel_no_outlier, X, feature_names=classes, max_display = 20, plot_type = \"dot\", show=False)\n",
    "        plt.title(\"TopoDNN \"+type_set+\" LRP values\")\n",
    "        plt.gcf().axes[-1].set_aspect(100)\n",
    "        plt.gcf().axes[-1].set_box_aspect(100)\n",
    "        plt.tight_layout()\n",
    "        idx+=1\n",
    "        if save:\n",
    "            plt.savefig(\"figures/TopoDNN\"+mode+\"/LRP_\"+part_dataset+\"_dist\"+options+\".png\", dpi = 150, bbox_inches='tight')\n",
    "        plt.show()\n",
    "        if idx == len(graphs):\n",
    "            return\n",
    "    if 'corr' in graphs:\n",
    "        normal_rel_no_outlier = removeOutliers(normal_rel)\n",
    "        plt.figure(idx, figsize=figsize)\n",
    "        df_rel_total = pd.DataFrame(normal_rel_no_outlier, columns=classes).iloc[: , :30]\n",
    "        corrmat = df_rel_total.corr()\n",
    "        sns.heatmap(corrmat, center=0, annot=True, cmap='bwr', fmt='.1f')\n",
    "        plt.title(\"TopoDNN \"+type_set+\" LRP Correlation Matrix\")\n",
    "        plt.tight_layout()\n",
    "        idx+=1\n",
    "        if save:\n",
    "            plt.savefig(\"figures/TopoDNN\"+mode+\"/LRP_\"+part_dataset+\"_corr\"+options+\".png\", dpi = 150, bbox_inches='tight')\n",
    "        plt.show()\n",
    "        if idx == len(graphs):\n",
    "            return\n",
    "    if 'feature_corr' in graphs:\n",
    "        plt.figure(idx, figsize=figsize)\n",
    "        df_rel_total = df_test.iloc[: , :30]\n",
    "        corrmat = df_rel_total.corr()\n",
    "        sns.heatmap(corrmat, center=0, annot=True, cmap='bwr', fmt='.1f')\n",
    "        plt.title(\"TopoDNN \"+type_set+\" Correlation Matrix\")\n",
    "        plt.tight_layout()\n",
    "        idx+=1\n",
    "        if save:\n",
    "            plt.savefig(\"figures/TopoDNN\"+mode+\"/LRP_\"+part_dataset+\"_feature_corr\"+options+\".png\", dpi = 150, bbox_inches='tight')\n",
    "        plt.show()\n",
    "        if idx == len(graphs):\n",
    "            return\n",
    "    if 'box_whisker' in graphs:\n",
    "        plt.figure(idx, figsize=figsize)\n",
    "        df_rel_total = pd.DataFrame(removeOutliers(normal_rel), columns=classes)\n",
    "        sorted_index = df_rel_total.abs().mean().sort_values(ascending=False).index\n",
    "        df_rel = pd.DataFrame(normal_rel, columns=classes)\n",
    "        df_rel_total = df_rel[sorted_index[:20]]\n",
    "        sns.boxplot(data=df_rel_total, orient='h', showfliers=False)\n",
    "        plt.title(\"TopoDNN \"+type_set+\" LRP Box and Whisker Distribution\")\n",
    "        plt.tight_layout()\n",
    "        idx+=1\n",
    "        if save:\n",
    "            plt.savefig(\"figures/TopoDNN\"+mode+\"/LRP_\"+part_dataset+\"_box_whisker\"+options+\".png\", dpi = 150, bbox_inches='tight')\n",
    "        plt.show()\n",
    "        if idx == len(graphs):\n",
    "            return \n",
    "    print(\"Not applicable graph type\")\n",
    "    return\n"
   ]
  },
  {
   "cell_type": "code",
   "execution_count": 9,
   "id": "a8557114",
   "metadata": {},
   "outputs": [
    {
     "data": {
      "image/png": "[encoded data removed]",
      "text/plain": [
       "<Figure size 720x720 with 1 Axes>"
      ]
     },
     "metadata": {
      "needs_background": "light"
     },
     "output_type": "display_data"
    }
   ],
   "source": [
    "#part_dataset: Choose from 'sig' or 'bkg'\n",
    "#zero_bias: Choose whether to do zero_bias on LRP\n",
    "#N, use_jet_pt, use_jet_mass are taken from parameters\n",
    "#lrp_type: Choose from 'zero', 'epsilon', 'gamma', for LRP-zero, LRP-epsilon, LRP-gamma\n",
    "#graphs specify which graphs you want in a list. You can only choose from 'abs_bar', 'bar', 'dist','corr'\n",
    "# save details whether you want to save it or not\n",
    "#figsize is the figure size of all plots, options are extra names you can add to end of saved figure \n",
    "#when specifying options, suggested to put '_' before the word\n",
    "#extra_name specifies what LRP type automatically when saving\n",
    "part_dataset = 'bkg'\n",
    "mode=mode\n",
    "zero_bias=False\n",
    "lrp_type='gamma'\n",
    "lrp_param=4\n",
    "graphs=['abs_bar']\n",
    "figsize=(10, 10)\n",
    "options = ''\n",
    "save=False\n",
    "extra_name=False\n",
    "make_graphs(model=model, mode=mode, df_test=df_test, part_dataset=part_dataset, zero_bias=zero_bias, lrp_type=lrp_type, \n",
    "            lrp_param=lrp_param, graphs=graphs,figsize=figsize, options=options, extra_name=extra_name, save=save)"
   ]
  },
  {
   "cell_type": "code",
   "execution_count": 4,
   "id": "2cf783c0",
   "metadata": {},
   "outputs": [
    {
     "name": "stdout",
     "output_type": "stream",
     "text": [
      "Num_layers: 10\n"
     ]
    }
   ],
   "source": [
    "#Calculate LRP of signal jets\n",
    "params = sig.columns\n",
    "X = sig\n",
    "L= len(model.layers)\n",
    "layers = model.layers\n",
    "A = [X]+[None]*L\n",
    "A[0] = tf.convert_to_tensor(A[0])\n",
    "print('Num_layers: ' + str(L))"
   ]
  },
  {
   "cell_type": "code",
   "execution_count": 6,
   "id": "85b32615",
   "metadata": {},
   "outputs": [],
   "source": [
    "#Clones model\n",
    "cloned_model = keras.models.clone_model(model)\n",
    "cloned_model.set_weights(model.get_weights())\n",
    "cloned_layers = cloned_model.layers"
   ]
  },
  {
   "cell_type": "code",
   "execution_count": 20,
   "id": "c8b491e2",
   "metadata": {},
   "outputs": [],
   "source": [
    "#Combine Dense+Activation functions\n",
    "B = [A[0], A[2], A[4], A[6], A[8], A[9]]\n",
    "# Backpropagate relevance scores (LRP-gamma)\n",
    "rho = lambda p: p + gamma*np.clip(p, 0, None);                       incr = lambda z: z\n",
    "R = [None]*5 + [B[-1]]\n",
    "# Iterate over the layers in reverse order\n",
    "for l in range(0,5)[::-1]:\n",
    "    with tf.GradientTape() as tape:\n",
    "        tape.watch(B[l])\n",
    "        #Transform weights\n",
    "        cloned_layers[2*l].set_weights([rho(cloned_layers[2*l].get_weights()[0]), rho(cloned_layers[2*l].get_weights()[1])])\n",
    "        #Execute forward pass\n",
    "        z = cloned_layers[2*l](B[l])\n",
    "        if l != 4:\n",
    "            z = incr(cloned_layers[2*l+1](z))\n",
    "        else:\n",
    "            z = incr(z)\n",
    "        #Gets rid of zeroes in denominators\n",
    "        inds_nz = z != 0\n",
    "        R1_sum = tf.reduce_sum(R[l+1])\n",
    "        R2_sum_nz = tf.reduce_sum(R[l+1][inds_nz])\n",
    "        R[l+1] = R[l+1]*R1_sum/R2_sum_nz\n",
    "        z = tf.where(z == 0, 1, z)\n",
    "        R[l + 1] = tf.where(z == 0, 0, R[l+1])\n",
    "        \n",
    "        # Element-wise division between relevance of the next layer and z\n",
    "        s = (R[l+1]/z)\n",
    "        \n",
    "        s = tf.reshape(s, z.shape)\n",
    "        # Calculate the gradient and multiply it by the activation\n",
    "        c = tape.gradient(tf.reduce_sum(z*s.numpy()), B[l])\n",
    "        # Assign new relevance values\n",
    "        R[l] = (B[l]*c)"
   ]
  },
  {
   "cell_type": "code",
   "execution_count": 21,
   "id": "e112b29a",
   "metadata": {},
   "outputs": [
    {
     "data": {
      "image/png": "[encoded data removed]",
      "text/plain": [
       "<Figure size 720x720 with 1 Axes>"
      ]
     },
     "metadata": {
      "needs_background": "light"
     },
     "output_type": "display_data"
    }
   ],
   "source": [
    "#Plots relevances as normalized and take absolute value\n",
    "normal_rel = np.empty_like(R[0])\n",
    "#Normalizes relevances for each sample\n",
    "normal_rel = R[0]/np.sum(R[0], 1)[:, np.newaxis]\n",
    "relevances = np.nanmean(np.abs(normal_rel), 0) #Takes mean across all jets\n",
    "df_sig_rel = pd.DataFrame(dict(params=params, rels=relevances))\n",
    "df_sig_rel_sorted = df_sig_rel.sort_values('rels') #Sorts relevance values\n",
    "fig = plt.figure(figsize = (10, 10))\n",
    "# creating the bar plot\n",
    "max_display = 20\n",
    "plt.barh('params', 'rels', data = df_sig_rel_sorted.tail(max_display), color ='blue')\n",
    "plt.tight_layout()\n",
    "plt.xlabel(\"Relevance Score\")\n",
    "plt.ylabel(\"Parameters\")\n",
    "plt.title(\"TopoDNN Signal LRP values\")\n",
    "#Saves plot\n",
    "#plt.savefig(\"figures/LRP_sig.png\", dpi = 150, bbox_inches='tight')\n",
    "plt.show()"
   ]
  },
  {
   "cell_type": "code",
   "execution_count": 15,
   "id": "d65f11b1",
   "metadata": {},
   "outputs": [
    {
     "data": {
      "text/plain": [
       "tensorflow.python.framework.ops.EagerTensor"
      ]
     },
     "execution_count": 15,
     "metadata": {},
     "output_type": "execute_result"
    }
   ],
   "source": [
    "type(R[0])"
   ]
  },
  {
   "cell_type": "code",
   "execution_count": 35,
   "id": "730ba587",
   "metadata": {},
   "outputs": [
    {
     "name": "stdout",
     "output_type": "stream",
     "text": [
      "done\n"
     ]
    }
   ],
   "source": [
    "#Calculate LRP of signal jets and steps\n",
    "X = bkg\n",
    "idx = 0\n",
    "A = [X]+[None]*L\n",
    "A[0] = tf.convert_to_tensor(A[0])\n",
    "\n",
    "for layer in model.layers:\n",
    "    #g=layer.get_config()['name']\n",
    "    #act = layer.get_config()['activation']\n",
    "    #h=layer.get_weights()\n",
    "    A[idx+1]=layer(A[idx])\n",
    "    idx+=1\n",
    "print('done')"
   ]
  },
  {
   "cell_type": "code",
   "execution_count": 39,
   "id": "1c83759b",
   "metadata": {},
   "outputs": [],
   "source": [
    "#Clones model\n",
    "cloned_model = keras.models.clone_model(model)\n",
    "cloned_model.set_weights(model.get_weights())\n",
    "cloned_layers = cloned_model.layers"
   ]
  },
  {
   "cell_type": "code",
   "execution_count": 40,
   "id": "eb96d7a5",
   "metadata": {},
   "outputs": [],
   "source": [
    "#Combine Dense+Activation functions\n",
    "B = [A[0], A[2], A[4], A[6], A[8], A[9]]\n",
    "# Backpropagate relevance scores (LRP-gamma)\n",
    "rho = lambda p: p + gamma*np.clip(p, 0, None);                       incr = lambda z: z+1e-9\n",
    "R = [None]*5 + [B[-1]]\n",
    "# Iterate over the layers in reverse order\n",
    "for l in range(0,5)[::-1]:\n",
    "    with tf.GradientTape() as tape:\n",
    "        tape.watch(B[l])\n",
    "        #Transform weights\n",
    "        cloned_layers[2*l].set_weights([rho(cloned_layers[2*l].get_weights()[0]), rho(cloned_layers[2*l].get_weights()[1])])\n",
    "        #Execute forward pass\n",
    "        z = cloned_layers[2*l](B[l])\n",
    "        if l != 4:\n",
    "            z = incr(cloned_layers[2*l+1](z))\n",
    "        else:\n",
    "            z = incr(z)\n",
    "        # Element-wise division between relevance of the next layer and z\n",
    "        s = (R[l+1]/z)\n",
    "        \n",
    "        s = tf.reshape(s, z.shape)\n",
    "        # Calculate the gradient and multiply it by the activation\n",
    "        c = tape.gradient(tf.reduce_sum(z*s.numpy()), B[l])\n",
    "        # Assign new relevance values\n",
    "        R[l] = (B[l]*c)"
   ]
  },
  {
   "cell_type": "code",
   "execution_count": 41,
   "id": "ddb60a6d",
   "metadata": {},
   "outputs": [
    {
     "data": {
      "image/png": "[encoded data removed]",
      "text/plain": [
       "<Figure size 720x720 with 1 Axes>"
      ]
     },
     "metadata": {
      "needs_background": "light"
     },
     "output_type": "display_data"
    }
   ],
   "source": [
    "#Plots relevances as normalized and take absolute value\n",
    "normal_rel = np.empty_like(R[0])\n",
    "#Normalizes relevances for each sample\n",
    "normal_rel = R[0]/np.sum(R[0], 1)[:, np.newaxis]\n",
    "relevances = np.nanmean(np.abs(normal_rel), 0) #Takes mean across all jets\n",
    "df_bkg_rel = pd.DataFrame(dict(params=params, rels=relevances))\n",
    "df_bkg_rel_sorted = df_bkg_rel.sort_values('rels')\n",
    "fig = plt.figure(figsize = (10, 10))\n",
    "# creating the bar plot\n",
    "max_display = 20\n",
    "plt.barh('params', 'rels', data = df_bkg_rel_sorted.tail(max_display), color ='blue')\n",
    "plt.tight_layout()\n",
    "plt.xlabel(\"Relevance Score\")\n",
    "plt.ylabel(\"Parameters\")\n",
    "plt.title(\"TopoDNN Background LRP values\")\n",
    "#Saves plot\n",
    "#plt.savefig(\"figures/LRP_bkg.png\", dpi = 150, bbox_inches='tight')\n",
    "plt.show()"
   ]
  },
  {
   "cell_type": "code",
   "execution_count": null,
   "id": "20ddc032",
   "metadata": {},
   "outputs": [],
   "source": []
  }
 ],
 "metadata": {
  "kernelspec": {
   "display_name": "Python 3 (ipykernel)",
   "language": "python",
   "name": "python3"
  },
  "language_info": {
   "codemirror_mode": {
    "name": "ipython",
    "version": 3
   },
   "file_extension": ".py",
   "mimetype": "text/x-python",
   "name": "python",
   "nbconvert_exporter": "python",
   "pygments_lexer": "ipython3",
   "version": "3.9.12"
  }
 },
 "nbformat": 4,
 "nbformat_minor": 5
}
