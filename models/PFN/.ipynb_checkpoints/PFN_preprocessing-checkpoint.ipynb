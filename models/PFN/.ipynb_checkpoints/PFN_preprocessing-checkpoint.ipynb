{
 "cells": [
  {
   "cell_type": "code",
   "execution_count": 44,
   "id": "75cf8d2b",
   "metadata": {},
   "outputs": [],
   "source": [
    "import pandas as pd\n",
    "import math \n",
    "import numpy as np\n",
    "import glob\n",
    "import sklearn\n",
    "from sklearn.metrics import roc_curve\n",
    "#Train data\n",
    "# Read in hdf5 files\n",
    "# Note: you will need to repeat this processing for input_filenames train, test and val\n",
    "\n",
    "input_filename = \"train\"\n",
    "\n",
    "store = pd.HDFStore(\"../../datasets/\"+input_filename+\".h5\")\n",
    "df = store.select(\"table\")"
   ]
  },
  {
   "cell_type": "code",
   "execution_count": 1,
   "id": "70face69",
   "metadata": {},
   "outputs": [
    {
     "name": "stderr",
     "output_type": "stream",
     "text": [
      "100%|████████████████████████████████████████████████████████████████████████████████████████████████████████████████████████████| 402999/402999 [00:20<00:00, 19438.46it/s]\n"
     ]
    }
   ],
   "source": [
    "from pfn_dataset import PFNDataset\n",
    "df = mydataset = PFNDataset('../../datasets/TopLandscape/val_file.parquet')"
   ]
  },
  {
   "cell_type": "code",
   "execution_count": 5,
   "id": "5ef7d500",
   "metadata": {},
   "outputs": [
    {
     "data": {
      "text/plain": [
       "array([1., 1., 1., 1., 1., 1., 1., 1., 1., 1., 1., 1., 1., 1., 1., 1., 1.,\n",
       "       1., 1., 1., 0., 0., 0., 0., 0., 0., 0., 0., 0., 0., 0., 0., 0., 0.,\n",
       "       0., 0., 0., 0., 0., 0., 0., 0., 0., 0., 0., 0., 0., 0., 0., 0., 0.,\n",
       "       0., 0., 0., 0., 0., 0., 0., 0., 0., 0., 0., 0., 0., 0., 0., 0., 0.,\n",
       "       0., 0., 0., 0., 0., 0., 0., 0., 0., 0., 0., 0., 0., 0., 0., 0., 0.,\n",
       "       0., 0., 0., 0., 0., 0., 0., 0., 0., 0., 0., 0., 0., 0., 0., 0., 0.,\n",
       "       0., 0., 0., 0., 0., 0., 0., 0., 0., 0., 0., 0., 0., 0., 0., 0., 0.,\n",
       "       0., 0., 0., 0., 0., 0., 0., 0., 0., 0., 0., 0., 0., 0., 0., 0., 0.,\n",
       "       0., 0., 0., 0., 0., 0., 0., 0., 0., 0., 0., 0., 0., 0., 0., 0., 0.,\n",
       "       0., 0., 0., 0., 0., 0., 0., 0., 0., 0., 0., 0., 0., 0., 0., 0., 0.,\n",
       "       0., 0., 0., 0., 0., 0., 0., 0., 0., 0., 0., 0., 0., 0., 0., 0., 0.,\n",
       "       0., 0., 0., 0., 0., 0., 0., 0., 0., 0., 0., 0., 0.])"
      ]
     },
     "execution_count": 5,
     "metadata": {},
     "output_type": "execute_result"
    }
   ],
   "source": [
    "import numpy as np\n",
    "df[0][1]"
   ]
  },
  {
   "cell_type": "code",
   "execution_count": 50,
   "id": "3244b1bf",
   "metadata": {},
   "outputs": [
    {
     "data": {
      "text/plain": [
       "(6,)"
      ]
     },
     "execution_count": 50,
     "metadata": {},
     "output_type": "execute_result"
    }
   ],
   "source": [
    "m.shape"
   ]
  },
  {
   "cell_type": "code",
   "execution_count": 44,
   "id": "08efb489",
   "metadata": {},
   "outputs": [
    {
     "ename": "NameError",
     "evalue": "name 'file_path' is not defined",
     "output_type": "error",
     "traceback": [
      "\u001b[0;31m---------------------------------------------------------------------------\u001b[0m",
      "\u001b[0;31mNameError\u001b[0m                                 Traceback (most recent call last)",
      "Input \u001b[0;32mIn [44]\u001b[0m, in \u001b[0;36m<cell line: 2>\u001b[0;34m()\u001b[0m\n\u001b[1;32m      1\u001b[0m \u001b[38;5;28;01mimport\u001b[39;00m \u001b[38;5;21;01mpandas\u001b[39;00m \u001b[38;5;28;01mas\u001b[39;00m \u001b[38;5;21;01mpd\u001b[39;00m\n\u001b[0;32m----> 2\u001b[0m df \u001b[38;5;241m=\u001b[39m pd\u001b[38;5;241m.\u001b[39mread_parquet(\u001b[43mfile_path\u001b[49m, engine\u001b[38;5;241m=\u001b[39m\u001b[38;5;124m'\u001b[39m\u001b[38;5;124mfastparquet\u001b[39m\u001b[38;5;124m'\u001b[39m)\n\u001b[1;32m      3\u001b[0m df[\u001b[38;5;124m'\u001b[39m\u001b[38;5;124mmask\u001b[39m\u001b[38;5;124m'\u001b[39m] \u001b[38;5;241m=\u001b[39m df[\u001b[38;5;124m'\u001b[39m\u001b[38;5;124mpart_dphi\u001b[39m\u001b[38;5;124m'\u001b[39m]\u001b[38;5;241m.\u001b[39mapply(np\u001b[38;5;241m.\u001b[39mones_like)\n\u001b[1;32m      4\u001b[0m data \u001b[38;5;241m=\u001b[39m df[[\u001b[38;5;124m'\u001b[39m\u001b[38;5;124mpart_energy\u001b[39m\u001b[38;5;124m'\u001b[39m, \u001b[38;5;124m'\u001b[39m\u001b[38;5;124mpart_px\u001b[39m\u001b[38;5;124m'\u001b[39m, \u001b[38;5;124m'\u001b[39m\u001b[38;5;124mpart_py\u001b[39m\u001b[38;5;124m'\u001b[39m, \u001b[38;5;124m'\u001b[39m\u001b[38;5;124mpart_pz\u001b[39m\u001b[38;5;124m'\u001b[39m, \u001b[38;5;124m'\u001b[39m\u001b[38;5;124mmask\u001b[39m\u001b[38;5;124m'\u001b[39m, \u001b[38;5;124m'\u001b[39m\u001b[38;5;124mjet_nparticles\u001b[39m\u001b[38;5;124m'\u001b[39m]]\u001b[38;5;241m.\u001b[39mto_numpy()\n",
      "\u001b[0;31mNameError\u001b[0m: name 'file_path' is not defined"
     ]
    }
   ],
   "source": [
    "#Training and validation paths\n",
    "train_path = '../../datasets/TopLandscape/train_file.parquet'\n",
    "from pfn_dataset import PFNDataset\n",
    "from torch.utils.data import DataLoader\n",
    "train_set = PFNDataset(train_path)\n",
    "trainloader = DataLoader(train_set, batch_size=500, shuffle=True, num_workers=30, pin_memory=True, persistent_workers=True)\n",
    "for x,m,y in tqdm(trainloader):\n",
    "    print(y.shape)"
   ]
  },
  {
   "cell_type": "code",
   "execution_count": 14,
   "id": "37bb691f",
   "metadata": {},
   "outputs": [
    {
     "data": {
      "text/html": [
       "<div>\n",
       "<style scoped>\n",
       "    .dataframe tbody tr th:only-of-type {\n",
       "        vertical-align: middle;\n",
       "    }\n",
       "\n",
       "    .dataframe tbody tr th {\n",
       "        vertical-align: top;\n",
       "    }\n",
       "\n",
       "    .dataframe thead th {\n",
       "        text-align: right;\n",
       "    }\n",
       "</style>\n",
       "<table border=\"1\" class=\"dataframe\">\n",
       "  <thead>\n",
       "    <tr style=\"text-align: right;\">\n",
       "      <th></th>\n",
       "      <th>E_0</th>\n",
       "      <th>PX_0</th>\n",
       "      <th>PY_0</th>\n",
       "      <th>PZ_0</th>\n",
       "      <th>E_1</th>\n",
       "      <th>PX_1</th>\n",
       "      <th>PY_1</th>\n",
       "      <th>PZ_1</th>\n",
       "      <th>E_2</th>\n",
       "      <th>PX_2</th>\n",
       "      <th>...</th>\n",
       "      <th>PZ_197</th>\n",
       "      <th>E_198</th>\n",
       "      <th>PX_198</th>\n",
       "      <th>PY_198</th>\n",
       "      <th>PZ_198</th>\n",
       "      <th>E_199</th>\n",
       "      <th>PX_199</th>\n",
       "      <th>PY_199</th>\n",
       "      <th>PZ_199</th>\n",
       "      <th>is_signal_new</th>\n",
       "    </tr>\n",
       "  </thead>\n",
       "  <tbody>\n",
       "    <tr>\n",
       "      <th>375</th>\n",
       "      <td>474.071136</td>\n",
       "      <td>-250.347031</td>\n",
       "      <td>-223.651962</td>\n",
       "      <td>-334.738098</td>\n",
       "      <td>103.236237</td>\n",
       "      <td>-48.866222</td>\n",
       "      <td>-56.790775</td>\n",
       "      <td>-71.025490</td>\n",
       "      <td>105.255569</td>\n",
       "      <td>-55.415001</td>\n",
       "      <td>...</td>\n",
       "      <td>0.0</td>\n",
       "      <td>0.0</td>\n",
       "      <td>0.0</td>\n",
       "      <td>0.0</td>\n",
       "      <td>0.0</td>\n",
       "      <td>0.0</td>\n",
       "      <td>0.0</td>\n",
       "      <td>0.0</td>\n",
       "      <td>0.0</td>\n",
       "      <td>0</td>\n",
       "    </tr>\n",
       "    <tr>\n",
       "      <th>377</th>\n",
       "      <td>150.504532</td>\n",
       "      <td>120.062393</td>\n",
       "      <td>76.852005</td>\n",
       "      <td>-48.274265</td>\n",
       "      <td>82.257057</td>\n",
       "      <td>63.801739</td>\n",
       "      <td>42.754807</td>\n",
       "      <td>-29.454842</td>\n",
       "      <td>48.573559</td>\n",
       "      <td>36.763199</td>\n",
       "      <td>...</td>\n",
       "      <td>0.0</td>\n",
       "      <td>0.0</td>\n",
       "      <td>0.0</td>\n",
       "      <td>0.0</td>\n",
       "      <td>0.0</td>\n",
       "      <td>0.0</td>\n",
       "      <td>0.0</td>\n",
       "      <td>0.0</td>\n",
       "      <td>0.0</td>\n",
       "      <td>0</td>\n",
       "    </tr>\n",
       "    <tr>\n",
       "      <th>378</th>\n",
       "      <td>251.645386</td>\n",
       "      <td>10.427651</td>\n",
       "      <td>-147.573746</td>\n",
       "      <td>203.564880</td>\n",
       "      <td>104.147797</td>\n",
       "      <td>10.718256</td>\n",
       "      <td>-54.497948</td>\n",
       "      <td>88.101395</td>\n",
       "      <td>78.043213</td>\n",
       "      <td>5.724113</td>\n",
       "      <td>...</td>\n",
       "      <td>0.0</td>\n",
       "      <td>0.0</td>\n",
       "      <td>0.0</td>\n",
       "      <td>0.0</td>\n",
       "      <td>0.0</td>\n",
       "      <td>0.0</td>\n",
       "      <td>0.0</td>\n",
       "      <td>0.0</td>\n",
       "      <td>0.0</td>\n",
       "      <td>0</td>\n",
       "    </tr>\n",
       "    <tr>\n",
       "      <th>379</th>\n",
       "      <td>451.566132</td>\n",
       "      <td>129.885437</td>\n",
       "      <td>-99.066292</td>\n",
       "      <td>-420.984100</td>\n",
       "      <td>208.410919</td>\n",
       "      <td>59.033958</td>\n",
       "      <td>-46.177090</td>\n",
       "      <td>-194.467941</td>\n",
       "      <td>190.183304</td>\n",
       "      <td>54.069675</td>\n",
       "      <td>...</td>\n",
       "      <td>0.0</td>\n",
       "      <td>0.0</td>\n",
       "      <td>0.0</td>\n",
       "      <td>0.0</td>\n",
       "      <td>0.0</td>\n",
       "      <td>0.0</td>\n",
       "      <td>0.0</td>\n",
       "      <td>0.0</td>\n",
       "      <td>0.0</td>\n",
       "      <td>0</td>\n",
       "    </tr>\n",
       "    <tr>\n",
       "      <th>380</th>\n",
       "      <td>399.093903</td>\n",
       "      <td>-168.432083</td>\n",
       "      <td>-47.205597</td>\n",
       "      <td>-358.717438</td>\n",
       "      <td>273.691956</td>\n",
       "      <td>-121.926941</td>\n",
       "      <td>-30.803854</td>\n",
       "      <td>-243.088928</td>\n",
       "      <td>152.837219</td>\n",
       "      <td>-44.400204</td>\n",
       "      <td>...</td>\n",
       "      <td>0.0</td>\n",
       "      <td>0.0</td>\n",
       "      <td>0.0</td>\n",
       "      <td>0.0</td>\n",
       "      <td>0.0</td>\n",
       "      <td>0.0</td>\n",
       "      <td>0.0</td>\n",
       "      <td>0.0</td>\n",
       "      <td>0.0</td>\n",
       "      <td>0</td>\n",
       "    </tr>\n",
       "    <tr>\n",
       "      <th>...</th>\n",
       "      <td>...</td>\n",
       "      <td>...</td>\n",
       "      <td>...</td>\n",
       "      <td>...</td>\n",
       "      <td>...</td>\n",
       "      <td>...</td>\n",
       "      <td>...</td>\n",
       "      <td>...</td>\n",
       "      <td>...</td>\n",
       "      <td>...</td>\n",
       "      <td>...</td>\n",
       "      <td>...</td>\n",
       "      <td>...</td>\n",
       "      <td>...</td>\n",
       "      <td>...</td>\n",
       "      <td>...</td>\n",
       "      <td>...</td>\n",
       "      <td>...</td>\n",
       "      <td>...</td>\n",
       "      <td>...</td>\n",
       "      <td>...</td>\n",
       "    </tr>\n",
       "    <tr>\n",
       "      <th>587</th>\n",
       "      <td>206.171997</td>\n",
       "      <td>13.942102</td>\n",
       "      <td>114.328499</td>\n",
       "      <td>-171.001465</td>\n",
       "      <td>231.602356</td>\n",
       "      <td>19.010832</td>\n",
       "      <td>92.303848</td>\n",
       "      <td>-211.561432</td>\n",
       "      <td>95.868248</td>\n",
       "      <td>0.411594</td>\n",
       "      <td>...</td>\n",
       "      <td>0.0</td>\n",
       "      <td>0.0</td>\n",
       "      <td>0.0</td>\n",
       "      <td>0.0</td>\n",
       "      <td>0.0</td>\n",
       "      <td>0.0</td>\n",
       "      <td>0.0</td>\n",
       "      <td>0.0</td>\n",
       "      <td>0.0</td>\n",
       "      <td>1</td>\n",
       "    </tr>\n",
       "    <tr>\n",
       "      <th>591</th>\n",
       "      <td>263.984161</td>\n",
       "      <td>-40.649391</td>\n",
       "      <td>-104.321312</td>\n",
       "      <td>239.065552</td>\n",
       "      <td>238.690689</td>\n",
       "      <td>8.786323</td>\n",
       "      <td>-101.236137</td>\n",
       "      <td>215.979828</td>\n",
       "      <td>126.197868</td>\n",
       "      <td>5.939164</td>\n",
       "      <td>...</td>\n",
       "      <td>0.0</td>\n",
       "      <td>0.0</td>\n",
       "      <td>0.0</td>\n",
       "      <td>0.0</td>\n",
       "      <td>0.0</td>\n",
       "      <td>0.0</td>\n",
       "      <td>0.0</td>\n",
       "      <td>0.0</td>\n",
       "      <td>0.0</td>\n",
       "      <td>1</td>\n",
       "    </tr>\n",
       "    <tr>\n",
       "      <th>592</th>\n",
       "      <td>61.417538</td>\n",
       "      <td>42.901291</td>\n",
       "      <td>43.947723</td>\n",
       "      <td>-0.436818</td>\n",
       "      <td>45.521763</td>\n",
       "      <td>31.723654</td>\n",
       "      <td>32.643845</td>\n",
       "      <td>-0.469300</td>\n",
       "      <td>44.801167</td>\n",
       "      <td>29.730831</td>\n",
       "      <td>...</td>\n",
       "      <td>0.0</td>\n",
       "      <td>0.0</td>\n",
       "      <td>0.0</td>\n",
       "      <td>0.0</td>\n",
       "      <td>0.0</td>\n",
       "      <td>0.0</td>\n",
       "      <td>0.0</td>\n",
       "      <td>0.0</td>\n",
       "      <td>0.0</td>\n",
       "      <td>1</td>\n",
       "    </tr>\n",
       "    <tr>\n",
       "      <th>593</th>\n",
       "      <td>261.215302</td>\n",
       "      <td>12.780115</td>\n",
       "      <td>-132.699203</td>\n",
       "      <td>224.635300</td>\n",
       "      <td>224.066376</td>\n",
       "      <td>52.028233</td>\n",
       "      <td>-101.145271</td>\n",
       "      <td>193.050354</td>\n",
       "      <td>67.573616</td>\n",
       "      <td>17.166769</td>\n",
       "      <td>...</td>\n",
       "      <td>0.0</td>\n",
       "      <td>0.0</td>\n",
       "      <td>0.0</td>\n",
       "      <td>0.0</td>\n",
       "      <td>0.0</td>\n",
       "      <td>0.0</td>\n",
       "      <td>0.0</td>\n",
       "      <td>0.0</td>\n",
       "      <td>0.0</td>\n",
       "      <td>1</td>\n",
       "    </tr>\n",
       "    <tr>\n",
       "      <th>596</th>\n",
       "      <td>221.000015</td>\n",
       "      <td>-32.458290</td>\n",
       "      <td>-127.960335</td>\n",
       "      <td>-177.238876</td>\n",
       "      <td>109.126007</td>\n",
       "      <td>-16.046606</td>\n",
       "      <td>-62.676899</td>\n",
       "      <td>-87.878311</td>\n",
       "      <td>111.210052</td>\n",
       "      <td>0.395372</td>\n",
       "      <td>...</td>\n",
       "      <td>0.0</td>\n",
       "      <td>0.0</td>\n",
       "      <td>0.0</td>\n",
       "      <td>0.0</td>\n",
       "      <td>0.0</td>\n",
       "      <td>0.0</td>\n",
       "      <td>0.0</td>\n",
       "      <td>0.0</td>\n",
       "      <td>0.0</td>\n",
       "      <td>1</td>\n",
       "    </tr>\n",
       "  </tbody>\n",
       "</table>\n",
       "<p>1211000 rows × 801 columns</p>\n",
       "</div>"
      ],
      "text/plain": [
       "            E_0        PX_0        PY_0        PZ_0         E_1        PX_1  \\\n",
       "375  474.071136 -250.347031 -223.651962 -334.738098  103.236237  -48.866222   \n",
       "377  150.504532  120.062393   76.852005  -48.274265   82.257057   63.801739   \n",
       "378  251.645386   10.427651 -147.573746  203.564880  104.147797   10.718256   \n",
       "379  451.566132  129.885437  -99.066292 -420.984100  208.410919   59.033958   \n",
       "380  399.093903 -168.432083  -47.205597 -358.717438  273.691956 -121.926941   \n",
       "..          ...         ...         ...         ...         ...         ...   \n",
       "587  206.171997   13.942102  114.328499 -171.001465  231.602356   19.010832   \n",
       "591  263.984161  -40.649391 -104.321312  239.065552  238.690689    8.786323   \n",
       "592   61.417538   42.901291   43.947723   -0.436818   45.521763   31.723654   \n",
       "593  261.215302   12.780115 -132.699203  224.635300  224.066376   52.028233   \n",
       "596  221.000015  -32.458290 -127.960335 -177.238876  109.126007  -16.046606   \n",
       "\n",
       "           PY_1        PZ_1         E_2       PX_2  ...  PZ_197  E_198  \\\n",
       "375  -56.790775  -71.025490  105.255569 -55.415001  ...     0.0    0.0   \n",
       "377   42.754807  -29.454842   48.573559  36.763199  ...     0.0    0.0   \n",
       "378  -54.497948   88.101395   78.043213   5.724113  ...     0.0    0.0   \n",
       "379  -46.177090 -194.467941  190.183304  54.069675  ...     0.0    0.0   \n",
       "380  -30.803854 -243.088928  152.837219 -44.400204  ...     0.0    0.0   \n",
       "..          ...         ...         ...        ...  ...     ...    ...   \n",
       "587   92.303848 -211.561432   95.868248   0.411594  ...     0.0    0.0   \n",
       "591 -101.236137  215.979828  126.197868   5.939164  ...     0.0    0.0   \n",
       "592   32.643845   -0.469300   44.801167  29.730831  ...     0.0    0.0   \n",
       "593 -101.145271  193.050354   67.573616  17.166769  ...     0.0    0.0   \n",
       "596  -62.676899  -87.878311  111.210052   0.395372  ...     0.0    0.0   \n",
       "\n",
       "     PX_198  PY_198  PZ_198  E_199  PX_199  PY_199  PZ_199  is_signal_new  \n",
       "375     0.0     0.0     0.0    0.0     0.0     0.0     0.0              0  \n",
       "377     0.0     0.0     0.0    0.0     0.0     0.0     0.0              0  \n",
       "378     0.0     0.0     0.0    0.0     0.0     0.0     0.0              0  \n",
       "379     0.0     0.0     0.0    0.0     0.0     0.0     0.0              0  \n",
       "380     0.0     0.0     0.0    0.0     0.0     0.0     0.0              0  \n",
       "..      ...     ...     ...    ...     ...     ...     ...            ...  \n",
       "587     0.0     0.0     0.0    0.0     0.0     0.0     0.0              1  \n",
       "591     0.0     0.0     0.0    0.0     0.0     0.0     0.0              1  \n",
       "592     0.0     0.0     0.0    0.0     0.0     0.0     0.0              1  \n",
       "593     0.0     0.0     0.0    0.0     0.0     0.0     0.0              1  \n",
       "596     0.0     0.0     0.0    0.0     0.0     0.0     0.0              1  \n",
       "\n",
       "[1211000 rows x 801 columns]"
      ]
     },
     "execution_count": 14,
     "metadata": {},
     "output_type": "execute_result"
    }
   ],
   "source": [
    "df.drop(columns=['truthE','truthPX','truthPY','truthPZ','ttv'])"
   ]
  },
  {
   "cell_type": "code",
   "execution_count": 42,
   "id": "661c12fa",
   "metadata": {},
   "outputs": [],
   "source": [
    "import pandas as pd\n",
    "df_train = pd.read_parquet('../../datasets/TopLandscape/train_file.parquet', engine='fastparquet')"
   ]
  },
  {
   "cell_type": "code",
   "execution_count": 77,
   "id": "9870a47f",
   "metadata": {},
   "outputs": [
    {
     "ename": "AttributeError",
     "evalue": "'numpy.ndarray' object has no attribute 'dim'",
     "output_type": "error",
     "traceback": [
      "\u001b[0;31m---------------------------------------------------------------------------\u001b[0m",
      "\u001b[0;31mAttributeError\u001b[0m                            Traceback (most recent call last)",
      "Input \u001b[0;32mIn [77]\u001b[0m, in \u001b[0;36m<cell line: 5>\u001b[0;34m()\u001b[0m\n\u001b[1;32m      2\u001b[0m source \u001b[38;5;241m=\u001b[39m np\u001b[38;5;241m.\u001b[39marange(\u001b[38;5;241m10\u001b[39m)\n\u001b[1;32m      3\u001b[0m \u001b[38;5;66;03m# now we expand to size (7, 11) by appending a row of 0s at pos 0 and pos 6, \u001b[39;00m\n\u001b[1;32m      4\u001b[0m \u001b[38;5;66;03m# and a column of 0s at pos 10\u001b[39;00m\n\u001b[0;32m----> 5\u001b[0m result \u001b[38;5;241m=\u001b[39m \u001b[43mF\u001b[49m\u001b[38;5;241;43m.\u001b[39;49m\u001b[43mpad\u001b[49m\u001b[43m(\u001b[49m\u001b[38;5;28;43minput\u001b[39;49m\u001b[38;5;241;43m=\u001b[39;49m\u001b[43msource\u001b[49m\u001b[43m,\u001b[49m\u001b[43m \u001b[49m\u001b[43mpad\u001b[49m\u001b[38;5;241;43m=\u001b[39;49m\u001b[43m(\u001b[49m\u001b[38;5;241;43m0\u001b[39;49m\u001b[43m,\u001b[49m\u001b[43m \u001b[49m\u001b[38;5;241;43m80\u001b[39;49m\u001b[43m)\u001b[49m\u001b[43m,\u001b[49m\u001b[43m \u001b[49m\u001b[43mmode\u001b[49m\u001b[38;5;241;43m=\u001b[39;49m\u001b[38;5;124;43m'\u001b[39;49m\u001b[38;5;124;43mconstant\u001b[39;49m\u001b[38;5;124;43m'\u001b[39;49m\u001b[43m,\u001b[49m\u001b[43m \u001b[49m\u001b[43mvalue\u001b[49m\u001b[38;5;241;43m=\u001b[39;49m\u001b[38;5;241;43m0\u001b[39;49m\u001b[43m)\u001b[49m\n",
      "File \u001b[0;32m/raid/projects/akhot2/conda/envs/akhot2/lib/python3.9/site-packages/torch/nn/functional.py:4362\u001b[0m, in \u001b[0;36m_pad\u001b[0;34m(input, pad, mode, value)\u001b[0m\n\u001b[1;32m   4360\u001b[0m     \u001b[38;5;28;01mreturn\u001b[39;00m handle_torch_function(_pad, (\u001b[38;5;28minput\u001b[39m,), \u001b[38;5;28minput\u001b[39m, pad, mode\u001b[38;5;241m=\u001b[39mmode, value\u001b[38;5;241m=\u001b[39mvalue)\n\u001b[1;32m   4361\u001b[0m \u001b[38;5;28;01massert\u001b[39;00m \u001b[38;5;28mlen\u001b[39m(pad) \u001b[38;5;241m%\u001b[39m \u001b[38;5;241m2\u001b[39m \u001b[38;5;241m==\u001b[39m \u001b[38;5;241m0\u001b[39m, \u001b[38;5;124m\"\u001b[39m\u001b[38;5;124mPadding length must be divisible by 2\u001b[39m\u001b[38;5;124m\"\u001b[39m\n\u001b[0;32m-> 4362\u001b[0m \u001b[38;5;28;01massert\u001b[39;00m \u001b[38;5;28mlen\u001b[39m(pad) \u001b[38;5;241m/\u001b[39m\u001b[38;5;241m/\u001b[39m \u001b[38;5;241m2\u001b[39m \u001b[38;5;241m<\u001b[39m\u001b[38;5;241m=\u001b[39m \u001b[38;5;28;43minput\u001b[39;49m\u001b[38;5;241;43m.\u001b[39;49m\u001b[43mdim\u001b[49m(), \u001b[38;5;124m\"\u001b[39m\u001b[38;5;124mPadding length too large\u001b[39m\u001b[38;5;124m\"\u001b[39m\n\u001b[1;32m   4363\u001b[0m \u001b[38;5;28;01mif\u001b[39;00m mode \u001b[38;5;241m==\u001b[39m \u001b[38;5;124m\"\u001b[39m\u001b[38;5;124mconstant\u001b[39m\u001b[38;5;124m\"\u001b[39m:\n\u001b[1;32m   4364\u001b[0m     \u001b[38;5;28;01mreturn\u001b[39;00m _VF\u001b[38;5;241m.\u001b[39mconstant_pad_nd(\u001b[38;5;28minput\u001b[39m, pad, value)\n",
      "\u001b[0;31mAttributeError\u001b[0m: 'numpy.ndarray' object has no attribute 'dim'"
     ]
    }
   ],
   "source": [
    "import torch.nn.functional as F\n",
    "source = np.arange(10)\n",
    "# now we expand to size (7, 11) by appending a row of 0s at pos 0 and pos 6, \n",
    "# and a column of 0s at pos 10\n",
    "result = F.pad(input=source, pad=(0, 80), mode='constant', value=0)\n"
   ]
  },
  {
   "cell_type": "code",
   "execution_count": 4,
   "id": "4a332448",
   "metadata": {},
   "outputs": [
    {
     "name": "stdout",
     "output_type": "stream",
     "text": [
      "torch.Size([500, 2])\n"
     ]
    }
   ],
   "source": [
    "from pfn_model import ParticleFlowNetwork\n",
    "import torch\n",
    "model = ParticleFlowNetwork().cuda()\n",
    "x = torch.rand(500, 4, 200).cuda()\n",
    "with torch.no_grad():\n",
    "    y = model(x, None)\n",
    "    print(y.shape)"
   ]
  },
  {
   "cell_type": "code",
   "execution_count": 7,
   "id": "e6ef7336",
   "metadata": {},
   "outputs": [
    {
     "data": {
      "text/plain": [
       "torch.Size([500])"
      ]
     },
     "execution_count": 7,
     "metadata": {},
     "output_type": "execute_result"
    }
   ],
   "source": [
    "from sklearn.metrics import accuracy_score\n",
    "\n",
    "y[:,1].shape"
   ]
  },
  {
   "cell_type": "code",
   "execution_count": 86,
   "id": "38189d0c",
   "metadata": {},
   "outputs": [],
   "source": [
    "df_train['mask'] = df_train['part_dphi'].apply(np.ones_like)"
   ]
  },
  {
   "cell_type": "code",
   "execution_count": 89,
   "id": "b8f93eac",
   "metadata": {},
   "outputs": [
    {
     "data": {
      "text/plain": [
       "array([1., 1., 1., 1.], dtype=float32)"
      ]
     },
     "execution_count": 89,
     "metadata": {},
     "output_type": "execute_result"
    }
   ],
   "source": [
    "df_train['mask'][0][0:4]"
   ]
  },
  {
   "cell_type": "code",
   "execution_count": 38,
   "id": "1d67b1ce",
   "metadata": {},
   "outputs": [
    {
     "name": "stderr",
     "output_type": "stream",
     "text": [
      "/tmp/ipykernel_134989/158974091.py:1: FutureWarning: In a future version of pandas all arguments of concat except for the argument 'objs' will be keyword-only.\n",
      "  pd.concat(pd.DataFrame(np.ones_like(df_train['part_deta'][1])), pd.DataFrame([0.0, 0.0]))\n"
     ]
    },
    {
     "ename": "TypeError",
     "evalue": "first argument must be an iterable of pandas objects, you passed an object of type \"DataFrame\"",
     "output_type": "error",
     "traceback": [
      "\u001b[0;31m---------------------------------------------------------------------------\u001b[0m",
      "\u001b[0;31mTypeError\u001b[0m                                 Traceback (most recent call last)",
      "Input \u001b[0;32mIn [38]\u001b[0m, in \u001b[0;36m<cell line: 1>\u001b[0;34m()\u001b[0m\n\u001b[0;32m----> 1\u001b[0m \u001b[43mpd\u001b[49m\u001b[38;5;241;43m.\u001b[39;49m\u001b[43mconcat\u001b[49m\u001b[43m(\u001b[49m\u001b[43mpd\u001b[49m\u001b[38;5;241;43m.\u001b[39;49m\u001b[43mDataFrame\u001b[49m\u001b[43m(\u001b[49m\u001b[43mnp\u001b[49m\u001b[38;5;241;43m.\u001b[39;49m\u001b[43mones_like\u001b[49m\u001b[43m(\u001b[49m\u001b[43mdf_train\u001b[49m\u001b[43m[\u001b[49m\u001b[38;5;124;43m'\u001b[39;49m\u001b[38;5;124;43mpart_deta\u001b[39;49m\u001b[38;5;124;43m'\u001b[39;49m\u001b[43m]\u001b[49m\u001b[43m[\u001b[49m\u001b[38;5;241;43m1\u001b[39;49m\u001b[43m]\u001b[49m\u001b[43m)\u001b[49m\u001b[43m)\u001b[49m\u001b[43m,\u001b[49m\u001b[43m \u001b[49m\u001b[43mpd\u001b[49m\u001b[38;5;241;43m.\u001b[39;49m\u001b[43mDataFrame\u001b[49m\u001b[43m(\u001b[49m\u001b[43m[\u001b[49m\u001b[38;5;241;43m0.0\u001b[39;49m\u001b[43m,\u001b[49m\u001b[43m \u001b[49m\u001b[38;5;241;43m0.0\u001b[39;49m\u001b[43m]\u001b[49m\u001b[43m)\u001b[49m\u001b[43m)\u001b[49m\n",
      "File \u001b[0;32m/raid/projects/akhot2/conda/envs/akhot2/lib/python3.9/site-packages/pandas/util/_decorators.py:311\u001b[0m, in \u001b[0;36mdeprecate_nonkeyword_arguments.<locals>.decorate.<locals>.wrapper\u001b[0;34m(*args, **kwargs)\u001b[0m\n\u001b[1;32m    305\u001b[0m \u001b[38;5;28;01mif\u001b[39;00m \u001b[38;5;28mlen\u001b[39m(args) \u001b[38;5;241m>\u001b[39m num_allow_args:\n\u001b[1;32m    306\u001b[0m     warnings\u001b[38;5;241m.\u001b[39mwarn(\n\u001b[1;32m    307\u001b[0m         msg\u001b[38;5;241m.\u001b[39mformat(arguments\u001b[38;5;241m=\u001b[39marguments),\n\u001b[1;32m    308\u001b[0m         \u001b[38;5;167;01mFutureWarning\u001b[39;00m,\n\u001b[1;32m    309\u001b[0m         stacklevel\u001b[38;5;241m=\u001b[39mstacklevel,\n\u001b[1;32m    310\u001b[0m     )\n\u001b[0;32m--> 311\u001b[0m \u001b[38;5;28;01mreturn\u001b[39;00m \u001b[43mfunc\u001b[49m\u001b[43m(\u001b[49m\u001b[38;5;241;43m*\u001b[39;49m\u001b[43margs\u001b[49m\u001b[43m,\u001b[49m\u001b[43m \u001b[49m\u001b[38;5;241;43m*\u001b[39;49m\u001b[38;5;241;43m*\u001b[39;49m\u001b[43mkwargs\u001b[49m\u001b[43m)\u001b[49m\n",
      "File \u001b[0;32m/raid/projects/akhot2/conda/envs/akhot2/lib/python3.9/site-packages/pandas/core/reshape/concat.py:347\u001b[0m, in \u001b[0;36mconcat\u001b[0;34m(objs, axis, join, ignore_index, keys, levels, names, verify_integrity, sort, copy)\u001b[0m\n\u001b[1;32m    143\u001b[0m \u001b[38;5;129m@deprecate_nonkeyword_arguments\u001b[39m(version\u001b[38;5;241m=\u001b[39m\u001b[38;5;28;01mNone\u001b[39;00m, allowed_args\u001b[38;5;241m=\u001b[39m[\u001b[38;5;124m\"\u001b[39m\u001b[38;5;124mobjs\u001b[39m\u001b[38;5;124m\"\u001b[39m])\n\u001b[1;32m    144\u001b[0m \u001b[38;5;28;01mdef\u001b[39;00m \u001b[38;5;21mconcat\u001b[39m(\n\u001b[1;32m    145\u001b[0m     objs: Iterable[NDFrame] \u001b[38;5;241m|\u001b[39m Mapping[Hashable, NDFrame],\n\u001b[0;32m   (...)\u001b[0m\n\u001b[1;32m    154\u001b[0m     copy: \u001b[38;5;28mbool\u001b[39m \u001b[38;5;241m=\u001b[39m \u001b[38;5;28;01mTrue\u001b[39;00m,\n\u001b[1;32m    155\u001b[0m ) \u001b[38;5;241m-\u001b[39m\u001b[38;5;241m>\u001b[39m DataFrame \u001b[38;5;241m|\u001b[39m Series:\n\u001b[1;32m    156\u001b[0m     \u001b[38;5;124;03m\"\"\"\u001b[39;00m\n\u001b[1;32m    157\u001b[0m \u001b[38;5;124;03m    Concatenate pandas objects along a particular axis with optional set logic\u001b[39;00m\n\u001b[1;32m    158\u001b[0m \u001b[38;5;124;03m    along the other axes.\u001b[39;00m\n\u001b[0;32m   (...)\u001b[0m\n\u001b[1;32m    345\u001b[0m \u001b[38;5;124;03m    ValueError: Indexes have overlapping values: ['a']\u001b[39;00m\n\u001b[1;32m    346\u001b[0m \u001b[38;5;124;03m    \"\"\"\u001b[39;00m\n\u001b[0;32m--> 347\u001b[0m     op \u001b[38;5;241m=\u001b[39m \u001b[43m_Concatenator\u001b[49m\u001b[43m(\u001b[49m\n\u001b[1;32m    348\u001b[0m \u001b[43m        \u001b[49m\u001b[43mobjs\u001b[49m\u001b[43m,\u001b[49m\n\u001b[1;32m    349\u001b[0m \u001b[43m        \u001b[49m\u001b[43maxis\u001b[49m\u001b[38;5;241;43m=\u001b[39;49m\u001b[43maxis\u001b[49m\u001b[43m,\u001b[49m\n\u001b[1;32m    350\u001b[0m \u001b[43m        \u001b[49m\u001b[43mignore_index\u001b[49m\u001b[38;5;241;43m=\u001b[39;49m\u001b[43mignore_index\u001b[49m\u001b[43m,\u001b[49m\n\u001b[1;32m    351\u001b[0m \u001b[43m        \u001b[49m\u001b[43mjoin\u001b[49m\u001b[38;5;241;43m=\u001b[39;49m\u001b[43mjoin\u001b[49m\u001b[43m,\u001b[49m\n\u001b[1;32m    352\u001b[0m \u001b[43m        \u001b[49m\u001b[43mkeys\u001b[49m\u001b[38;5;241;43m=\u001b[39;49m\u001b[43mkeys\u001b[49m\u001b[43m,\u001b[49m\n\u001b[1;32m    353\u001b[0m \u001b[43m        \u001b[49m\u001b[43mlevels\u001b[49m\u001b[38;5;241;43m=\u001b[39;49m\u001b[43mlevels\u001b[49m\u001b[43m,\u001b[49m\n\u001b[1;32m    354\u001b[0m \u001b[43m        \u001b[49m\u001b[43mnames\u001b[49m\u001b[38;5;241;43m=\u001b[39;49m\u001b[43mnames\u001b[49m\u001b[43m,\u001b[49m\n\u001b[1;32m    355\u001b[0m \u001b[43m        \u001b[49m\u001b[43mverify_integrity\u001b[49m\u001b[38;5;241;43m=\u001b[39;49m\u001b[43mverify_integrity\u001b[49m\u001b[43m,\u001b[49m\n\u001b[1;32m    356\u001b[0m \u001b[43m        \u001b[49m\u001b[43mcopy\u001b[49m\u001b[38;5;241;43m=\u001b[39;49m\u001b[43mcopy\u001b[49m\u001b[43m,\u001b[49m\n\u001b[1;32m    357\u001b[0m \u001b[43m        \u001b[49m\u001b[43msort\u001b[49m\u001b[38;5;241;43m=\u001b[39;49m\u001b[43msort\u001b[49m\u001b[43m,\u001b[49m\n\u001b[1;32m    358\u001b[0m \u001b[43m    \u001b[49m\u001b[43m)\u001b[49m\n\u001b[1;32m    360\u001b[0m     \u001b[38;5;28;01mreturn\u001b[39;00m op\u001b[38;5;241m.\u001b[39mget_result()\n",
      "File \u001b[0;32m/raid/projects/akhot2/conda/envs/akhot2/lib/python3.9/site-packages/pandas/core/reshape/concat.py:382\u001b[0m, in \u001b[0;36m_Concatenator.__init__\u001b[0;34m(self, objs, axis, join, keys, levels, names, ignore_index, verify_integrity, copy, sort)\u001b[0m\n\u001b[1;32m    368\u001b[0m \u001b[38;5;28;01mdef\u001b[39;00m \u001b[38;5;21m__init__\u001b[39m(\n\u001b[1;32m    369\u001b[0m     \u001b[38;5;28mself\u001b[39m,\n\u001b[1;32m    370\u001b[0m     objs: Iterable[NDFrame] \u001b[38;5;241m|\u001b[39m Mapping[Hashable, NDFrame],\n\u001b[0;32m   (...)\u001b[0m\n\u001b[1;32m    379\u001b[0m     sort\u001b[38;5;241m=\u001b[39m\u001b[38;5;28;01mFalse\u001b[39;00m,\n\u001b[1;32m    380\u001b[0m ):\n\u001b[1;32m    381\u001b[0m     \u001b[38;5;28;01mif\u001b[39;00m \u001b[38;5;28misinstance\u001b[39m(objs, (ABCSeries, ABCDataFrame, \u001b[38;5;28mstr\u001b[39m)):\n\u001b[0;32m--> 382\u001b[0m         \u001b[38;5;28;01mraise\u001b[39;00m \u001b[38;5;167;01mTypeError\u001b[39;00m(\n\u001b[1;32m    383\u001b[0m             \u001b[38;5;124m\"\u001b[39m\u001b[38;5;124mfirst argument must be an iterable of pandas \u001b[39m\u001b[38;5;124m\"\u001b[39m\n\u001b[1;32m    384\u001b[0m             \u001b[38;5;124mf\u001b[39m\u001b[38;5;124m'\u001b[39m\u001b[38;5;124mobjects, you passed an object of type \u001b[39m\u001b[38;5;124m\"\u001b[39m\u001b[38;5;132;01m{\u001b[39;00m\u001b[38;5;28mtype\u001b[39m(objs)\u001b[38;5;241m.\u001b[39m\u001b[38;5;18m__name__\u001b[39m\u001b[38;5;132;01m}\u001b[39;00m\u001b[38;5;124m\"\u001b[39m\u001b[38;5;124m'\u001b[39m\n\u001b[1;32m    385\u001b[0m         )\n\u001b[1;32m    387\u001b[0m     \u001b[38;5;28;01mif\u001b[39;00m join \u001b[38;5;241m==\u001b[39m \u001b[38;5;124m\"\u001b[39m\u001b[38;5;124mouter\u001b[39m\u001b[38;5;124m\"\u001b[39m:\n\u001b[1;32m    388\u001b[0m         \u001b[38;5;28mself\u001b[39m\u001b[38;5;241m.\u001b[39mintersect \u001b[38;5;241m=\u001b[39m \u001b[38;5;28;01mFalse\u001b[39;00m\n",
      "\u001b[0;31mTypeError\u001b[0m: first argument must be an iterable of pandas objects, you passed an object of type \"DataFrame\""
     ]
    }
   ],
   "source": [
    "pd.concat(pd.DataFrame(np.ones_like(df_train['part_deta'][1])), pd.DataFrame([0.0, 0.0]))"
   ]
  },
  {
   "cell_type": "code",
   "execution_count": 16,
   "id": "1420e850",
   "metadata": {},
   "outputs": [],
   "source": [
    "import torch\n",
    "f = torch.randn((2, 3, 4))"
   ]
  },
  {
   "cell_type": "code",
   "execution_count": 17,
   "id": "de080cb3",
   "metadata": {},
   "outputs": [],
   "source": [
    "g = f.permute(0, 2, 1)"
   ]
  },
  {
   "cell_type": "code",
   "execution_count": 18,
   "id": "7faaea10",
   "metadata": {},
   "outputs": [
    {
     "data": {
      "text/plain": [
       "torch.Size([2, 3, 4])"
      ]
     },
     "execution_count": 18,
     "metadata": {},
     "output_type": "execute_result"
    }
   ],
   "source": [
    "f.shape"
   ]
  },
  {
   "cell_type": "code",
   "execution_count": 19,
   "id": "323917ec",
   "metadata": {},
   "outputs": [
    {
     "data": {
      "text/plain": [
       "torch.Size([2, 4, 3])"
      ]
     },
     "execution_count": 19,
     "metadata": {},
     "output_type": "execute_result"
    }
   ],
   "source": [
    "g.shape"
   ]
  },
  {
   "cell_type": "code",
   "execution_count": 20,
   "id": "d34e3bd1",
   "metadata": {},
   "outputs": [],
   "source": [
    "h=torch.flatten(g, start_dim=0, end_dim=1)"
   ]
  },
  {
   "cell_type": "code",
   "execution_count": 43,
   "id": "04237189",
   "metadata": {},
   "outputs": [
    {
     "data": {
      "text/plain": [
       "torch.Size([8, 3])"
      ]
     },
     "execution_count": 43,
     "metadata": {},
     "output_type": "execute_result"
    }
   ],
   "source": [
    "h.shape"
   ]
  },
  {
   "cell_type": "code",
   "execution_count": 22,
   "id": "c4c7828b",
   "metadata": {},
   "outputs": [
    {
     "name": "stdout",
     "output_type": "stream",
     "text": [
      "tensor([[ 0.6337, -0.3822, -0.2087],\n",
      "        [ 2.0737,  0.1642,  0.3939],\n",
      "        [-1.4680,  1.0231,  1.7984],\n",
      "        [ 0.3397, -0.8733, -1.4268],\n",
      "        [ 1.0210, -0.4462, -0.3418],\n",
      "        [-0.5450,  2.0116, -2.5978],\n",
      "        [ 1.3353,  0.1891,  2.3266],\n",
      "        [-0.6781,  0.6823, -1.9493]])\n",
      "tensor([[[ 0.6337,  2.0737, -1.4680,  0.3397],\n",
      "         [-0.3822,  0.1642,  1.0231, -0.8733],\n",
      "         [-0.2087,  0.3939,  1.7984, -1.4268]],\n",
      "\n",
      "        [[ 1.0210, -0.5450,  1.3353, -0.6781],\n",
      "         [-0.4462,  2.0116,  0.1891,  0.6823],\n",
      "         [-0.3418, -2.5978,  2.3266, -1.9493]]])\n"
     ]
    }
   ],
   "source": [
    "print(h)\n",
    "print(f)"
   ]
  },
  {
   "cell_type": "code",
   "execution_count": 42,
   "id": "628ce415",
   "metadata": {},
   "outputs": [
    {
     "data": {
      "text/plain": [
       "tensor([[[ 0.6337,  2.0737, -1.4680,  0.3397],\n",
       "         [-0.3822,  0.1642,  1.0231, -0.8733],\n",
       "         [-0.2087,  0.3939,  1.7984, -1.4268]],\n",
       "\n",
       "        [[ 1.0210, -0.5450,  1.3353, -0.6781],\n",
       "         [-0.4462,  2.0116,  0.1891,  0.6823],\n",
       "         [-0.3418, -2.5978,  2.3266, -1.9493]]])"
      ]
     },
     "execution_count": 42,
     "metadata": {},
     "output_type": "execute_result"
    }
   ],
   "source": [
    "torch.stack(torch.split(h.permute(1, 0), 4, dim=1), 0)"
   ]
  },
  {
   "cell_type": "code",
   "execution_count": 14,
   "id": "6a434608",
   "metadata": {},
   "outputs": [
    {
     "data": {
      "text/plain": [
       "tensor([[ 0.5396, -0.3306,  1.5733],\n",
       "        [-1.4443,  0.4765,  0.3409],\n",
       "        [-0.3215,  0.4200, -0.1825],\n",
       "        [ 1.0658, -1.2802, -0.9324],\n",
       "        [-0.1199,  0.9767, -0.4278],\n",
       "        [-1.3017,  0.5196,  1.1094],\n",
       "        [ 0.4849, -1.3108, -0.0366],\n",
       "        [ 0.4450, -0.6639,  1.2869]])"
      ]
     },
     "execution_count": 14,
     "metadata": {},
     "output_type": "execute_result"
    }
   ],
   "source": [
    "j"
   ]
  },
  {
   "cell_type": "code",
   "execution_count": 15,
   "id": "24865b0a",
   "metadata": {},
   "outputs": [
    {
     "data": {
      "text/plain": [
       "tensor([[[ 0.5396, -1.4443, -0.3215,  1.0658],\n",
       "         [-0.3306,  0.4765,  0.4200, -1.2802],\n",
       "         [ 1.5733,  0.3409, -0.1825, -0.9324]],\n",
       "\n",
       "        [[-0.1199, -1.3017,  0.4849,  0.4450],\n",
       "         [ 0.9767,  0.5196, -1.3108, -0.6639],\n",
       "         [-0.4278,  1.1094, -0.0366,  1.2869]]])"
      ]
     },
     "execution_count": 15,
     "metadata": {},
     "output_type": "execute_result"
    }
   ],
   "source": [
    "f"
   ]
  },
  {
   "cell_type": "code",
   "execution_count": 41,
   "id": "868f87a1",
   "metadata": {},
   "outputs": [
    {
     "data": {
      "text/plain": [
       "tensor([[[ 0.5396, -1.4443, -0.3215,  1.0658],\n",
       "         [-0.3306,  0.4765,  0.4200, -1.2802],\n",
       "         [ 1.5733,  0.3409, -0.1825, -0.9324]],\n",
       "\n",
       "        [[-0.1199, -1.3017,  0.4849,  0.4450],\n",
       "         [ 0.9767,  0.5196, -1.3108, -0.6639],\n",
       "         [-0.4278,  1.1094, -0.0366,  1.2869]]])"
      ]
     },
     "execution_count": 41,
     "metadata": {},
     "output_type": "execute_result"
    }
   ],
   "source": [
    "torch.stack(torch.split(j.permute(1, 0), 4, dim=1), 0)"
   ]
  },
  {
   "cell_type": "code",
   "execution_count": 26,
   "id": "ae87d402",
   "metadata": {},
   "outputs": [
    {
     "data": {
      "text/plain": [
       "torch.Size([3, 8])"
      ]
     },
     "execution_count": 26,
     "metadata": {},
     "output_type": "execute_result"
    }
   ],
   "source": [
    "j.permute(1,0).shape"
   ]
  },
  {
   "cell_type": "code",
   "execution_count": null,
   "id": "19a57a46",
   "metadata": {},
   "outputs": [],
   "source": [
    "from utils import accuracy\n",
    "import torch\n",
    "accuracy(torch.randn(3,2), torch.ones(1,3), topk=(1,2))"
   ]
  },
  {
   "cell_type": "code",
   "execution_count": 95,
   "id": "ddf8f095",
   "metadata": {},
   "outputs": [
    {
     "data": {
      "text/plain": [
       "tensor([[ 1.2675, -0.7427]])"
      ]
     },
     "execution_count": 95,
     "metadata": {},
     "output_type": "execute_result"
    }
   ],
   "source": [
    "torch.randn(1,2).view(1,-1).expand_as(torch.randn(1,2))"
   ]
  },
  {
   "cell_type": "code",
   "execution_count": 96,
   "id": "5f976a0d",
   "metadata": {},
   "outputs": [],
   "source": [
    "f=torch.randn(1,2)"
   ]
  },
  {
   "cell_type": "code",
   "execution_count": null,
   "id": "09ec8a57",
   "metadata": {},
   "outputs": [],
   "source": []
  },
  {
   "cell_type": "code",
   "execution_count": null,
   "id": "2f3802e2",
   "metadata": {},
   "outputs": [],
   "source": []
  }
 ],
 "metadata": {
  "kernelspec": {
   "display_name": "Python 3 (ipykernel)",
   "language": "python",
   "name": "python3"
  },
  "language_info": {
   "codemirror_mode": {
    "name": "ipython",
    "version": 3
   },
   "file_extension": ".py",
   "mimetype": "text/x-python",
   "name": "python",
   "nbconvert_exporter": "python",
   "pygments_lexer": "ipython3",
   "version": "3.9.12"
  }
 },
 "nbformat": 4,
 "nbformat_minor": 5
}
