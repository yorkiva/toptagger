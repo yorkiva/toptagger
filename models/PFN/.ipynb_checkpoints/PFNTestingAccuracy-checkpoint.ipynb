{
 "cells": [
  {
   "cell_type": "code",
   "execution_count": 7,
   "id": "122fadb1",
   "metadata": {},
   "outputs": [
    {
     "data": {
      "text/plain": [
       "ParticleFlowNetwork(\n",
       "  (phi): Sequential(\n",
       "    (0): Sequential(\n",
       "      (0): Linear(in_features=3, out_features=100, bias=True)\n",
       "      (1): ReLU()\n",
       "    )\n",
       "    (1): Sequential(\n",
       "      (0): Linear(in_features=100, out_features=100, bias=True)\n",
       "      (1): ReLU()\n",
       "    )\n",
       "    (2): Sequential(\n",
       "      (0): Linear(in_features=100, out_features=256, bias=True)\n",
       "      (1): ReLU()\n",
       "    )\n",
       "  )\n",
       "  (fc): Sequential(\n",
       "    (0): Sequential(\n",
       "      (0): Linear(in_features=256, out_features=100, bias=True)\n",
       "      (1): ReLU()\n",
       "    )\n",
       "    (1): Sequential(\n",
       "      (0): Linear(in_features=100, out_features=100, bias=True)\n",
       "      (1): ReLU()\n",
       "    )\n",
       "    (2): Sequential(\n",
       "      (0): Linear(in_features=100, out_features=100, bias=True)\n",
       "      (1): ReLU()\n",
       "    )\n",
       "    (3): Linear(in_features=100, out_features=2, bias=True)\n",
       "    (4): Softmax(dim=1)\n",
       "  )\n",
       ")"
      ]
     },
     "execution_count": 7,
     "metadata": {},
     "output_type": "execute_result"
    }
   ],
   "source": [
    "from dataset_pfn import PFNDataset\n",
    "import numpy as np\n",
    "from tqdm import tqdm\n",
    "import torch\n",
    "from torch.utils.data import DataLoader\n",
    "from pfn_model import ParticleFlowNetwork as Model\n",
    "from utils import accuracy\n",
    "import sklearn\n",
    "from sklearn.metrics import roc_curve\n",
    "from sklearn.metrics import accuracy_score\n",
    "import matplotlib.pyplot as plt\n",
    "\n",
    "#Parameters to change, can change model_type to 'best' or 'last'\n",
    "model_type = 'best'\n",
    "extra_name = ''\n",
    "#Testing path\n",
    "test_path = \"../../datasets/test.h5\"\n",
    "\n",
    "#model path\n",
    "model_path = 'models/PFN_'+ model_type + extra_name\n",
    "\n",
    "#Loading testing dataset\n",
    "test_set = PFNDataset(test_path)\n",
    "testloader = DataLoader(test_set, shuffle=False, batch_size=500, num_workers=30, pin_memory=True, persistent_workers=True)\n",
    "\n",
    "#loading model\n",
    "model = Model(3).cuda()\n",
    "model.load_state_dict(torch.load(model_path))\n",
    "model.eval()"
   ]
  },
  {
   "cell_type": "code",
   "execution_count": 28,
   "id": "05cb84f1",
   "metadata": {},
   "outputs": [
    {
     "name": "stdout",
     "output_type": "stream",
     "text": [
      "Performance on test set\n"
     ]
    },
    {
     "name": "stderr",
     "output_type": "stream",
     "text": [
      "100%|█████████████████████████████████████████████████████████████████████████████| 808/808 [00:02<00:00, 322.22it/s]\n"
     ]
    },
    {
     "name": "stdout",
     "output_type": "stream",
     "text": [
      "Loss: 0.3359404571796998\n",
      "Accuracy: 0.9764034653465347\n",
      "Background rejection at 30\\% signal efficiency:874.08658008658\n",
      "Background rejection at 50\\% signal efficiency:874.08658008658\n",
      "Background rejection at 80\\% signal efficiency:750.6096654275093\n",
      "AUC:0.9970400119132421\n"
     ]
    }
   ],
   "source": [
    "def evaluate_model(model, test_loader):\n",
    "   \n",
    "    #Find loss and accuracy\n",
    "    crit = torch.nn.CrossEntropyLoss()\n",
    "    val_loss_total=0\n",
    "    test_top1_total=0\n",
    "    acc=0\n",
    "    _, _, labels=test_set[:]\n",
    "    total_preds = []\n",
    "    with torch.no_grad():\n",
    "        for x,m,y in tqdm(test_loader):\n",
    "            x = x.cuda()\n",
    "            m = m.cuda()\n",
    "            y = y.cuda()\n",
    "            pred = model(x, m)\n",
    "            loss = crit(pred, y)\n",
    "            val_loss_total += loss.item()\n",
    "            #accuracy is determined by rounding. Any number <= 0.5 get's rounded down to 0\n",
    "            #The rest get rounded up to 1\n",
    "            top1 = accuracy_score(pred[:,1].round().cpu(), y[:,1].cpu(), normalize=False)\n",
    "            test_top1_total += top1.item()\n",
    "            total_preds.append(pred.cpu().numpy())\n",
    "    total_preds = np.concatenate(total_preds, axis=0)\n",
    "    print(\"Loss: \"+str(val_loss_total/len(testloader)))    \n",
    "    print(\"Accuracy: \"+str(test_top1_total/len(test_set)))\n",
    "    fpr, tpr, thresholds = roc_curve(\n",
    "            labels[:,1], np.array(total_preds)[:,1])\n",
    "    \n",
    "    rej_at_30_marker  = None\n",
    "    rej_at_50_marker  = None\n",
    "    rej_at_80_marker  = None\n",
    "\n",
    "    for i in range(len(fpr)):\n",
    "        if(tpr[i] >= .30 and rej_at_30_marker is None):\n",
    "            rej_at_30_marker = 1 / fpr[i]\n",
    "            print(\"Background rejection at 30\\% signal efficiency:\" +\n",
    "                        str(rej_at_30_marker))\n",
    "        if(tpr[i] >= .50 and rej_at_50_marker is None):\n",
    "            rej_at_50_marker = 1 / fpr[i]\n",
    "            print(\"Background rejection at 50\\% signal efficiency:\" +\n",
    "                        str(rej_at_50_marker))\n",
    "        if(tpr[i] >= .80 and rej_at_80_marker is None):\n",
    "            rej_at_80_marker = 1 / fpr[i]\n",
    "            print( \"Background rejection at 80\\% signal efficiency:\" +\n",
    "                   str(rej_at_80_marker))\n",
    "    current = sklearn.metrics.auc(fpr, tpr)\n",
    "    print(\"AUC:\"+str(current))\n",
    "    return fpr,tpr,current,labels, total_preds\n",
    "    \n",
    "print(\"Performance on test set\")\n",
    "fpr, tpr, current,labels,total_preds = evaluate_model(model,testloader)"
   ]
  },
  {
   "cell_type": "code",
   "execution_count": 29,
   "id": "b7430470",
   "metadata": {},
   "outputs": [
    {
     "data": {
      "image/png": "[encoded data removed]",
      "text/plain": [
       "<Figure size 432x288 with 1 Axes>"
      ]
     },
     "metadata": {
      "needs_background": "light"
     },
     "output_type": "display_data"
    }
   ],
   "source": [
    "sklearn.metrics.RocCurveDisplay.from_predictions(labels[:,1], total_preds[:,1], name='PFN'+'_'+ model_type+extra_name)\n",
    "plt.show()"
   ]
  },
  {
   "cell_type": "code",
   "execution_count": 16,
   "id": "04f24872",
   "metadata": {},
   "outputs": [],
   "source": [
    "_, _, labels=test_set[:]"
   ]
  },
  {
   "cell_type": "code",
   "execution_count": 32,
   "id": "b195832a",
   "metadata": {},
   "outputs": [
    {
     "data": {
      "text/plain": [
       "tensor([1., 0.])"
      ]
     },
     "execution_count": 32,
     "metadata": {},
     "output_type": "execute_result"
    }
   ],
   "source": [
    "labels.permute(1, 0)[0]"
   ]
  },
  {
   "cell_type": "code",
   "execution_count": null,
   "id": "602d65d1",
   "metadata": {},
   "outputs": [],
   "source": []
  }
 ],
 "metadata": {
  "kernelspec": {
   "display_name": "Python 3 (ipykernel)",
   "language": "python",
   "name": "python3"
  },
  "language_info": {
   "codemirror_mode": {
    "name": "ipython",
    "version": 3
   },
   "file_extension": ".py",
   "mimetype": "text/x-python",
   "name": "python",
   "nbconvert_exporter": "python",
   "pygments_lexer": "ipython3",
   "version": "3.9.12"
  }
 },
 "nbformat": 4,
 "nbformat_minor": 5
}
