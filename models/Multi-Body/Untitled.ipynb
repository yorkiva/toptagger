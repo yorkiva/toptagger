{
 "cells": [
  {
   "cell_type": "code",
   "execution_count": 1,
   "id": "ab4fe5d3",
   "metadata": {},
   "outputs": [],
   "source": [
    "import numpy as np\n",
    "data = np.load('../../datasets/n-subjettiness_data/test_all.npy')"
   ]
  },
  {
   "cell_type": "code",
   "execution_count": 53,
   "id": "62d464d7",
   "metadata": {},
   "outputs": [
    {
     "data": {
      "text/plain": [
       "array([1., 1., 1., ..., 0., 0., 0.])"
      ]
     },
     "execution_count": 53,
     "metadata": {},
     "output_type": "execute_result"
    }
   ],
   "source": [
    "data[:, 26]"
   ]
  },
  {
   "cell_type": "code",
   "execution_count": 54,
   "id": "c8444817",
   "metadata": {},
   "outputs": [],
   "source": [
    "col = abs(1-data[:, 26])[..., None]"
   ]
  },
  {
   "cell_type": "code",
   "execution_count": 17,
   "id": "b5b50a84",
   "metadata": {},
   "outputs": [],
   "source": [
    "new_arr = np.append(data, col, 1)"
   ]
  },
  {
   "cell_type": "code",
   "execution_count": 24,
   "id": "848b8d8f",
   "metadata": {},
   "outputs": [
    {
     "data": {
      "text/plain": [
       "399884.0"
      ]
     },
     "execution_count": 24,
     "metadata": {},
     "output_type": "execute_result"
    }
   ],
   "source": [
    "np.sum(new_arr[:, 27] + new_arr[:, 26])"
   ]
  },
  {
   "cell_type": "code",
   "execution_count": 25,
   "id": "3d74c49c",
   "metadata": {},
   "outputs": [
    {
     "data": {
      "text/plain": [
       "399884"
      ]
     },
     "execution_count": 25,
     "metadata": {},
     "output_type": "execute_result"
    }
   ],
   "source": [
    "len(data)"
   ]
  },
  {
   "cell_type": "code",
   "execution_count": 26,
   "id": "f1cc0cc0",
   "metadata": {},
   "outputs": [],
   "source": [
    "new_arr[:, [26, 27]] = new_arr[:, [27, 26]]"
   ]
  },
  {
   "cell_type": "code",
   "execution_count": 31,
   "id": "ab7fe479",
   "metadata": {},
   "outputs": [
    {
     "data": {
      "text/plain": [
       "399884.0"
      ]
     },
     "execution_count": 31,
     "metadata": {},
     "output_type": "execute_result"
    }
   ],
   "source": [
    "np.sum(new_arr[:,27] + new_arr[:,26])"
   ]
  },
  {
   "cell_type": "code",
   "execution_count": 60,
   "id": "d1feeffe",
   "metadata": {},
   "outputs": [],
   "source": [
    "sig_col = data[:, 26][...,None]\n",
    "bkg_col = abs(1-data[:, 26])[..., None]\n",
    "labels = np.append(bkg_col, sig_col, 1)"
   ]
  },
  {
   "cell_type": "code",
   "execution_count": 48,
   "id": "3e1a6e4e",
   "metadata": {},
   "outputs": [],
   "source": [
    "labels.append(abs(1-data[:, 26])[..., None])"
   ]
  },
  {
   "cell_type": "code",
   "execution_count": 56,
   "id": "b99c67b4",
   "metadata": {},
   "outputs": [],
   "source": [
    "labels = np.append(data[:, 26][...,None], abs(1-data[:, 26])[..., None], 1)"
   ]
  },
  {
   "cell_type": "code",
   "execution_count": 58,
   "id": "f374f08f",
   "metadata": {},
   "outputs": [
    {
     "data": {
      "text/plain": [
       "array([1., 0.])"
      ]
     },
     "execution_count": 58,
     "metadata": {},
     "output_type": "execute_result"
    }
   ],
   "source": [
    "labels[0]"
   ]
  },
  {
   "cell_type": "code",
   "execution_count": 62,
   "id": "af98ee05",
   "metadata": {},
   "outputs": [
    {
     "data": {
      "text/plain": [
       "array([0., 1.])"
      ]
     },
     "execution_count": 62,
     "metadata": {},
     "output_type": "execute_result"
    }
   ],
   "source": [
    "labels[0]"
   ]
  },
  {
   "cell_type": "code",
   "execution_count": 64,
   "id": "731e7017",
   "metadata": {},
   "outputs": [],
   "source": [
    "n = np.delete(data.copy(), 26, 1)"
   ]
  },
  {
   "cell_type": "code",
   "execution_count": 70,
   "id": "4c273fe1",
   "metadata": {},
   "outputs": [
    {
     "data": {
      "text/plain": [
       "array([0., 0., 0., ..., 0., 0., 0.])"
      ]
     },
     "execution_count": 70,
     "metadata": {},
     "output_type": "execute_result"
    }
   ],
   "source": [
    "n[:,25] - data[:,25]"
   ]
  },
  {
   "cell_type": "code",
   "execution_count": 71,
   "id": "2b2c997c",
   "metadata": {},
   "outputs": [
    {
     "data": {
      "text/plain": [
       "array([1., 1., 1., ..., 0., 0., 0.])"
      ]
     },
     "execution_count": 71,
     "metadata": {},
     "output_type": "execute_result"
    }
   ],
   "source": [
    "data[:,26]"
   ]
  },
  {
   "cell_type": "code",
   "execution_count": 72,
   "id": "a958ff73",
   "metadata": {},
   "outputs": [
    {
     "data": {
      "text/plain": [
       "array([[5.47989947e-01, 4.59670009e-01, 1.24217101e+00, ...,\n",
       "        2.81493263e-03, 5.65768434e+02, 1.81222097e+02],\n",
       "       [5.07464740e-01, 2.77831261e-01, 1.11719334e-01, ...,\n",
       "        3.21455136e-03, 5.72772056e+02, 1.77417944e+02],\n",
       "       [3.88753164e-01, 2.23330322e-01, 1.10985922e-01, ...,\n",
       "        2.21235616e-03, 5.60084384e+02, 1.61688688e+02],\n",
       "       ...,\n",
       "       [2.04131598e-01, 8.80766141e-02, 4.69655347e-02, ...,\n",
       "        4.55570065e-03, 6.04801931e+02, 1.28999397e+02],\n",
       "       [9.35790836e-01, 1.95296136e+00, 1.13088418e+01, ...,\n",
       "        7.85950714e-03, 5.97214312e+02, 2.38697998e+02],\n",
       "       [1.72080654e-01, 3.65728311e-02, 6.19351844e-03, ...,\n",
       "        1.62341697e-03, 6.05563680e+02, 4.78349194e+01]])"
      ]
     },
     "execution_count": 72,
     "metadata": {},
     "output_type": "execute_result"
    }
   ],
   "source": [
    "np.delete(data, 26, 1)"
   ]
  },
  {
   "cell_type": "code",
   "execution_count": 2,
   "id": "73b25596",
   "metadata": {},
   "outputs": [
    {
     "name": "stdout",
     "output_type": "stream",
     "text": [
      "hi\n"
     ]
    }
   ],
   "source": [
    "if not False:\n",
    "    print('hi')"
   ]
  },
  {
   "cell_type": "code",
   "execution_count": 49,
   "id": "b8a3c219",
   "metadata": {},
   "outputs": [],
   "source": [
    "new_arr = data[:,0:24]"
   ]
  },
  {
   "cell_type": "code",
   "execution_count": 50,
   "id": "35cbc01d",
   "metadata": {},
   "outputs": [],
   "source": [
    "arr = np.append(new_arr, data[:,24:26], 1)"
   ]
  },
  {
   "cell_type": "code",
   "execution_count": 51,
   "id": "a72d1d08",
   "metadata": {},
   "outputs": [
    {
     "data": {
      "text/plain": [
       "array([181.22209735, 177.41794376, 161.68868817, ..., 128.99939685,\n",
       "       238.69799797,  47.83491944])"
      ]
     },
     "execution_count": 51,
     "metadata": {},
     "output_type": "execute_result"
    }
   ],
   "source": [
    "data[:,25]"
   ]
  },
  {
   "cell_type": "code",
   "execution_count": 52,
   "id": "bceb50d0",
   "metadata": {},
   "outputs": [
    {
     "data": {
      "text/plain": [
       "array([181.22209735, 177.41794376, 161.68868817, ..., 128.99939685,\n",
       "       238.69799797,  47.83491944])"
      ]
     },
     "execution_count": 52,
     "metadata": {},
     "output_type": "execute_result"
    }
   ],
   "source": [
    "arr[:,25]"
   ]
  },
  {
   "cell_type": "code",
   "execution_count": null,
   "id": "b6c33929",
   "metadata": {},
   "outputs": [],
   "source": []
  }
 ],
 "metadata": {
  "kernelspec": {
   "display_name": "Python 3 (ipykernel)",
   "language": "python",
   "name": "python3"
  },
  "language_info": {
   "codemirror_mode": {
    "name": "ipython",
    "version": 3
   },
   "file_extension": ".py",
   "mimetype": "text/x-python",
   "name": "python",
   "nbconvert_exporter": "python",
   "pygments_lexer": "ipython3",
   "version": "3.9.12"
  }
 },
 "nbformat": 4,
 "nbformat_minor": 5
}
