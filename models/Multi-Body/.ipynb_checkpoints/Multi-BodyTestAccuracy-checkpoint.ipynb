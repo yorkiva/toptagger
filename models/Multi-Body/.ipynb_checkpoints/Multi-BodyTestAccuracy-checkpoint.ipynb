{
 "cells": [
  {
   "cell_type": "code",
   "execution_count": 4,
   "id": "c8e899cf",
   "metadata": {},
   "outputs": [
    {
     "data": {
      "text/plain": [
       "Net(\n",
       "  (dense1): Linear(in_features=22, out_features=200, bias=True)\n",
       "  (dense2): Linear(in_features=200, out_features=200, bias=True)\n",
       "  (dense3): Linear(in_features=200, out_features=50, bias=True)\n",
       "  (dense4): Linear(in_features=50, out_features=50, bias=True)\n",
       "  (dense5): Linear(in_features=50, out_features=2, bias=True)\n",
       "  (relu): ReLU()\n",
       "  (dropout1): Dropout(p=0.1, inplace=False)\n",
       "  (dropout2): Dropout(p=0.2, inplace=False)\n",
       "  (softmax): Softmax(dim=1)\n",
       ")"
      ]
     },
     "execution_count": 4,
     "metadata": {},
     "output_type": "execute_result"
    }
   ],
   "source": [
    "from multidataset import MultiDataset\n",
    "import numpy as np\n",
    "from tqdm import tqdm\n",
    "import torch\n",
    "from torch.utils.data import DataLoader\n",
    "from multimodel import Net as Model\n",
    "from utils import accuracy\n",
    "import sklearn\n",
    "from sklearn.metrics import roc_curve\n",
    "from sklearn.metrics import accuracy_score\n",
    "import matplotlib.pyplot as plt\n",
    "\n",
    "#Parameters to change, can change model_type to 'best' or 'last'\n",
    "use_jet_pt = True\n",
    "use_jet_mass = True\n",
    "N = 8\n",
    "model_type = 'last'\n",
    "extra_name = '_lrsched'\n",
    "#Testing path\n",
    "test_path = '../../datasets/n-subjettiness_data/test_all.npy'\n",
    "\n",
    "#model path\n",
    "model_path = 'models/MultiBody' + str(N) + '-Subjettiness_mass' +str(use_jet_mass)+'_pt'+str(use_jet_pt)+'_'+ model_type + extra_name\n",
    "\n",
    "#Loading testing dataset\n",
    "test_set = MultiDataset(test_path, N, use_jet_pt, use_jet_mass)\n",
    "testloader = DataLoader(test_set, shuffle=False, batch_size=256, num_workers=30, pin_memory=True, persistent_workers=True)\n",
    "\n",
    "#loading model\n",
    "model = Model(N, use_jet_pt, use_jet_mass).cuda().double()\n",
    "model.load_state_dict(torch.load(model_path))\n",
    "model.eval()"
   ]
  },
  {
   "cell_type": "code",
   "execution_count": 5,
   "id": "b215ee8d",
   "metadata": {},
   "outputs": [
    {
     "name": "stdout",
     "output_type": "stream",
     "text": [
      "Performance on test set\n"
     ]
    },
    {
     "name": "stderr",
     "output_type": "stream",
     "text": [
      "100%|██████████████████████████████████████████| 1563/1563 [00:03<00:00, 461.80it/s]\n"
     ]
    },
    {
     "name": "stdout",
     "output_type": "stream",
     "text": [
      "Loss: 0.21597728910039002\n",
      "Accuracy: 0.9110617078952896\n",
      "Background rejection at 30\\% signal efficiency:385.0828516377649\n",
      "Background rejection at 50\\% signal efficiency:110.78603104212861\n",
      "Background rejection at 80\\% signal efficiency:24.405666137501527\n",
      "AUC:0.9735682337359148\n"
     ]
    }
   ],
   "source": [
    "def evaluate_model(model, test_loader):\n",
    "   \n",
    "    #Find loss and accuracy\n",
    "    crit = torch.nn.BCELoss()\n",
    "    val_loss_total=0\n",
    "    test_top1_total=0\n",
    "    acc=0\n",
    "    _, labels=test_set[:]\n",
    "    total_preds = []\n",
    "    with torch.no_grad():\n",
    "        for x,y in tqdm(test_loader):\n",
    "            x = x.cuda()\n",
    "            y = y.cuda()\n",
    "            pred = model(x)\n",
    "            loss = crit(pred, y)\n",
    "            val_loss_total += loss.item()\n",
    "            #accuracy is determined by rounding. Any number <= 0.5 get's rounded down to 0\n",
    "            #The rest get rounded up to 1\n",
    "            top1 = accuracy_score(pred[:,1].round().cpu(), y[:,1].cpu(), normalize=False)\n",
    "            test_top1_total += top1.item()\n",
    "            total_preds.append(pred.cpu().numpy())\n",
    "    total_preds = np.concatenate(total_preds, axis=0)\n",
    "    print(\"Loss: \"+str(val_loss_total/len(testloader)))    \n",
    "    print(\"Accuracy: \"+str(test_top1_total/len(test_set)))\n",
    "    fpr, tpr, thresholds = roc_curve(\n",
    "            labels[:,1][...,None], np.array(total_preds)[:,1][...,None])\n",
    "    \n",
    "    rej_at_30_marker  = None\n",
    "    rej_at_50_marker  = None\n",
    "    rej_at_80_marker  = None\n",
    "\n",
    "    for i in range(len(fpr)):\n",
    "        if(tpr[i] >= .30 and rej_at_30_marker is None):\n",
    "            rej_at_30_marker = 1 / fpr[i]\n",
    "            print(\"Background rejection at 30\\% signal efficiency:\" +\n",
    "                        str(rej_at_30_marker))\n",
    "        if(tpr[i] >= .50 and rej_at_50_marker is None):\n",
    "            rej_at_50_marker = 1 / fpr[i]\n",
    "            print(\"Background rejection at 50\\% signal efficiency:\" +\n",
    "                        str(rej_at_50_marker))\n",
    "        if(tpr[i] >= .80 and rej_at_80_marker is None):\n",
    "            rej_at_80_marker = 1 / fpr[i]\n",
    "            print( \"Background rejection at 80\\% signal efficiency:\" +\n",
    "                   str(rej_at_80_marker))\n",
    "    current = sklearn.metrics.auc(fpr, tpr)\n",
    "    print(\"AUC:\"+str(current))\n",
    "    return fpr,tpr,current,labels, total_preds\n",
    "    \n",
    "print(\"Performance on test set\")\n",
    "fpr, tpr, current,labels,total_preds = evaluate_model(model,testloader)"
   ]
  },
  {
   "cell_type": "code",
   "execution_count": 3,
   "id": "e0667fc9",
   "metadata": {},
   "outputs": [
    {
     "data": {
      "image/png": "[encoded data removed]",
      "text/plain": [
       "<Figure size 432x288 with 1 Axes>"
      ]
     },
     "metadata": {
      "needs_background": "light"
     },
     "output_type": "display_data"
    }
   ],
   "source": [
    "sklearn.metrics.RocCurveDisplay.from_predictions(labels[:,1][...,None], total_preds[:,1][...,None], name='MultiBody' + str(N) + '-Subjettiness_mass' +str(use_jet_mass)+'_'+ model_type+extra_name)\n",
    "plt.show()"
   ]
  },
  {
   "cell_type": "code",
   "execution_count": 3,
   "id": "f9ce52a0",
   "metadata": {},
   "outputs": [],
   "source": [
    "data, labels=test_set[:]"
   ]
  },
  {
   "cell_type": "code",
   "execution_count": 7,
   "id": "3229f485",
   "metadata": {},
   "outputs": [
    {
     "data": {
      "text/plain": [
       "1563"
      ]
     },
     "execution_count": 7,
     "metadata": {},
     "output_type": "execute_result"
    }
   ],
   "source": [
    "len(testloader)"
   ]
  },
  {
   "cell_type": "code",
   "execution_count": null,
   "id": "2ca69cd2",
   "metadata": {},
   "outputs": [],
   "source": []
  }
 ],
 "metadata": {
  "kernelspec": {
   "display_name": "Python 3 (ipykernel)",
   "language": "python",
   "name": "python3"
  },
  "language_info": {
   "codemirror_mode": {
    "name": "ipython",
    "version": 3
   },
   "file_extension": ".py",
   "mimetype": "text/x-python",
   "name": "python",
   "nbconvert_exporter": "python",
   "pygments_lexer": "ipython3",
   "version": "3.9.12"
  }
 },
 "nbformat": 4,
 "nbformat_minor": 5
}
