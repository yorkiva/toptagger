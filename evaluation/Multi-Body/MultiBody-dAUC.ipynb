{
 "cells": [
  {
   "cell_type": "code",
   "execution_count": 4,
   "id": "7444fec9",
   "metadata": {},
   "outputs": [],
   "source": [
    "import torch\n",
    "import numpy as np\n",
    "from torch.utils.data import DataLoader\n",
    "import matplotlib.pyplot as plt\n",
    "import pickle\n",
    "import pandas as pd\n",
    "import copy\n",
    "import torch.nn as nn\n",
    "import shap\n",
    "import seaborn as sns\n",
    "from sklearn.metrics import roc_curve, auc, roc_auc_score, precision_recall_curve\n",
    "\n",
    "import sys\n",
    "sys.path.insert(1, '../../models/Multi-Body')\n",
    "from multidataset import MultiDataset\n",
    "from multimodel import Net as Model\n"
   ]
  },
  {
   "cell_type": "code",
   "execution_count": 5,
   "id": "ae492f2c",
   "metadata": {},
   "outputs": [
    {
     "data": {
      "text/plain": [
       "Net(\n",
       "  (dense1): Linear(in_features=9, out_features=200, bias=True)\n",
       "  (dense2): Linear(in_features=200, out_features=200, bias=True)\n",
       "  (dense3): Linear(in_features=200, out_features=50, bias=True)\n",
       "  (dense4): Linear(in_features=50, out_features=50, bias=True)\n",
       "  (dense5): Linear(in_features=50, out_features=2, bias=True)\n",
       "  (relu): ReLU()\n",
       "  (dropout1): Dropout(p=0.1, inplace=False)\n",
       "  (dropout2): Dropout(p=0.2, inplace=False)\n",
       "  (softmax): Softmax(dim=1)\n",
       ")"
      ]
     },
     "execution_count": 5,
     "metadata": {},
     "output_type": "execute_result"
    }
   ],
   "source": [
    "#Parameters to change, can change model_type to 'best' or 'last'\n",
    "use_jet_pt = True\n",
    "use_jet_mass = True\n",
    "tau_x_1 = True\n",
    "N = 8\n",
    "model_type = 'best'\n",
    "extra_name = ''\n",
    "if tau_x_1:\n",
    "    extra_name = '_tau_x_1'\n",
    "#Testing path\n",
    "test_path = '../../datasets/n-subjettiness_data/test_all.npy'\n",
    "\n",
    "#model path\n",
    "model_path = '../../models/Multi-Body/models/MultiBody' + str(N) + '-Subjettiness_mass' +str(use_jet_mass)+'_pt'+str(use_jet_pt)+'_'+ model_type + extra_name\n",
    "\n",
    "#loading model\n",
    "model = Model(N, use_jet_pt, use_jet_mass, tau_x_1).cuda()\n",
    "model.load_state_dict(torch.load(model_path))\n",
    "model.eval()"
   ]
  },
  {
   "cell_type": "code",
   "execution_count": 6,
   "id": "b4da09c5",
   "metadata": {},
   "outputs": [],
   "source": [
    "#Loading testing dataset\n",
    "test_set = MultiDataset(test_path, N, use_jet_pt, use_jet_mass, tau_x_1)\n",
    "feat_names = []\n",
    "if not tau_x_1:\n",
    "    for i in range(N-1):\n",
    "        if i != N-2:\n",
    "            feat_names.append('tau_'+str(i+1)+'_'+str(0.5))\n",
    "            feat_names.append('tau_'+str(i+1)+'_'+str(1))\n",
    "            feat_names.append('tau_'+str(i+1)+'_'+str(2))\n",
    "        else:\n",
    "            feat_names.append('tau_'+str(i+1)+'_'+str(1))\n",
    "            feat_names.append('tau_'+str(i+1)+'_'+str(2))\n",
    "    if use_jet_pt:\n",
    "        feat_names.append('jet_pt')\n",
    "    if use_jet_mass:\n",
    "        feat_names.append('jet_mass')\n",
    "else:\n",
    "    for i in range(N-1):\n",
    "        feat_names.append('tau_'+str(i+1)+'_'+str(1))\n",
    "    if use_jet_pt:\n",
    "        feat_names.append('jet_pt')\n",
    "    if use_jet_mass:\n",
    "        feat_names.append('jet_mass')\n",
    "layer_names = ['dense1', 'relu', 'dropout2', 'dense2', 'relu', 'dropout2', 'dense3', 'relu', \n",
    "              'dropout1', 'dense4', 'relu', 'dropout1', 'dense5', 'softmax']\n",
    "data,labels = test_set[:]\n",
    "full_data = np.concatenate((data,labels),axis=1)\n",
    "df_test = pd.DataFrame(full_data, columns=np.append(feat_names, ['background_prob', 'signal_prob']))\n",
    "feats = df_test.drop(columns=['background_prob', 'signal_prob'])\n",
    "means = np.array(df_test.mean(0))"
   ]
  },
  {
   "cell_type": "code",
   "execution_count": 7,
   "id": "54233256",
   "metadata": {},
   "outputs": [],
   "source": [
    "def eval2(model, mask_index = -1, mask_mode = 'mean'):\n",
    "    data = np.copy(feats)\n",
    "    if mask_index >= 0 and mask_index < len(feat_names):\n",
    "        if mask_mode == 'mean':\n",
    "            data[:, mask_index] = means[mask_index]\n",
    "        else:\n",
    "            data[:, mask_index] = 0.\n",
    "    data = torch.tensor(data, dtype = torch.float32).cuda()\n",
    "    \n",
    "    with torch.no_grad():\n",
    "        model.eval()\n",
    "        data = model.dense1(data)\n",
    "        data = model.relu(data)\n",
    "        data = model.dropout2(data)\n",
    "    \n",
    "        data = model.dense2(data)\n",
    "        data = model.relu(data)\n",
    "        data = model.dropout2(data)\n",
    "\n",
    "        data = model.dense3(data)\n",
    "        data = model.relu(data)\n",
    "        data = model.dropout1(data)\n",
    "\n",
    "        data = model.dense4(data)\n",
    "        data = model.relu(data)\n",
    "        data = model.dropout1(data)\n",
    "\n",
    "        data = model.dense5(data)\n",
    "        presoftmax = data.cpu().numpy()\n",
    "        data = model.softmax(data)\n",
    "        result = data.cpu().numpy()\n",
    "\n",
    "    \n",
    "    return presoftmax, result\n",
    "\n",
    "def dAUC_chart(dAUC_vals, tags, tag, save=False):\n",
    "    tag = \"baseline\" if tag == \"\" else tag.strip('_')\n",
    "    dAUC_vals = dAUC_vals[::-1]\n",
    "    tags = tags[::-1]\n",
    "    pos = np.arange(len(dAUC_vals))\n",
    "    plt.figure(figsize=(5,5))\n",
    "    plt.barh(pos, dAUC_vals, align='center')\n",
    "    plt.yticks(pos, tags, fontsize = 10)\n",
    "    plt.xlabel('Percent Drop in AUC', fontsize=10)\n",
    "    plt.ylabel('Features', fontsize=10)\n",
    "    plt.tick_params(axis='both', which='major', labelsize=10)\n",
    "    plt.tight_layout()\n",
    "    if save:\n",
    "        plt.savefig(\"figures/dAUC_MB8S_{}.png\".format(tag))\n",
    "    plt.show()"
   ]
  },
  {
   "cell_type": "code",
   "execution_count": 8,
   "id": "39f879fb",
   "metadata": {},
   "outputs": [
    {
     "name": "stdout",
     "output_type": "stream",
     "text": [
      "Baseline model's AUC: 97.5527%\n"
     ]
    }
   ],
   "source": [
    "baseline_presoftmax, baseline_results = eval2(model)\n",
    "auc_baseline = roc_auc_score(labels[:, 0], baseline_results[:, 0])*100\n",
    "print(\"Baseline model's AUC: {:.4f}%\".format(auc_baseline))"
   ]
  },
  {
   "cell_type": "code",
   "execution_count": 9,
   "id": "8b44d672",
   "metadata": {},
   "outputs": [],
   "source": [
    "dresult_presoftmax = []\n",
    "dresult = []\n",
    "dAUC_vals = []\n",
    "for fid, feat in enumerate(feat_names):\n",
    "    this_presoftmax, this_results = eval2(model, mask_index = fid, mask_mode='mean')\n",
    "    dresult_presoftmax.append((this_presoftmax - baseline_presoftmax)/baseline_presoftmax)\n",
    "    dresult.append(this_results - baseline_results)\n",
    "    this_auc = roc_auc_score(labels[:,0], this_results[:,0])*100\n",
    "    dAUC_vals.append(auc_baseline - this_auc)"
   ]
  },
  {
   "cell_type": "code",
   "execution_count": 10,
   "id": "b3785e49",
   "metadata": {},
   "outputs": [
    {
     "name": "stdout",
     "output_type": "stream",
     "text": [
      "ptmass_tau_x_1\n"
     ]
    },
    {
     "data": {
      "image/png": "[encoded data removed]",
      "text/plain": [
       "<Figure size 360x360 with 1 Axes>"
      ]
     },
     "metadata": {
      "needs_background": "light"
     },
     "output_type": "display_data"
    }
   ],
   "source": [
    "sorted_tags = []\n",
    "sorted_vals = []\n",
    "for val, tag in sorted(zip(dAUC_vals, feat_names), reverse = True)[:10]:\n",
    "    sorted_tags.append(tag)\n",
    "    sorted_vals.append(val)\n",
    "    \n",
    "tag = ('pt' if use_jet_pt else '') + ('mass' if use_jet_mass else '') + ('_' + extra_name.strip('_') if extra_name else '')\n",
    "print(tag)\n",
    "dAUC_chart(sorted_vals, sorted_tags, tag=tag, save=True)"
   ]
  },
  {
   "cell_type": "code",
   "execution_count": 11,
   "id": "7e2a7ab4",
   "metadata": {},
   "outputs": [],
   "source": [
    "def removeOutliers(x, outlierConstant=1.5):\n",
    "    quantiles = np.nanquantile(x, (0.25, 0.75),axis=0)\n",
    "    IQR = (quantiles[1]-quantiles[0])*1.5\n",
    "    result = np.where((x>=quantiles[0]-IQR)&(x<=quantiles[1]+IQR), x, 0)\n",
    "    \n",
    "    return result\n",
    "\n",
    "def plotmaker(data, tags, plot_type = 'abs_bar', part_dataset = 'bkg', save = False, modelnamesuffix = \"\"):\n",
    "    modelnamesuffix = 'baseline' if not modelnamesuffix else modelnamesuffix\n",
    "    if plot_type == 'abs_bar':\n",
    "        data_no_outlier = removeOutliers(data)\n",
    "        plt.figure(figsize=(5,5))\n",
    "        abs_data = np.nanmean(np.abs(data_no_outlier), 0) #Takes mean across all jets\n",
    "        df_rel = pd.DataFrame(dict(params=tags, rels=abs_data))\n",
    "        df_rel_sorted = df_rel.sort_values('rels') #Sorts relevance values\n",
    "        # creating the abs bar plot\n",
    "        max_display = 10\n",
    "        plt.barh('params', 'rels', data = df_rel_sorted.tail(max_display), color ='blue')\n",
    "        plt.tight_layout()\n",
    "        plt.xlabel(\"MAD Relevance Score\", fontsize=10)\n",
    "        plt.ylabel(\"Features\", fontsize=10)\n",
    "        plt.tick_params(axis='both', which='major', labelsize=10)\n",
    "        # plt.title(\"TopoDNN Absolute Value \"+type_set+\" Delta LRP values\")\n",
    "        if save:\n",
    "            plt.savefig(\"figures/dLRP_MB8S_{}_{}_absbar.png\".format(modelnamesuffix, part_dataset), \n",
    "                        dpi = 150, bbox_inches='tight')\n",
    "        plt.show()\n",
    "    if plot_type == 'box_whisker':\n",
    "        plt.figure(figsize=(10,10))\n",
    "        df_rel_total = pd.DataFrame(removeOutliers(data), columns=tags)\n",
    "        sorted_index = df_rel_total.abs().mean().sort_values(ascending=False).index\n",
    "        df_rel = pd.DataFrame(data, columns=tags)\n",
    "        df_rel_total = df_rel[sorted_index[:20]]\n",
    "        sns.boxplot(data=df_rel_total, orient='h', showfliers=False)\n",
    "        #plt.title(\"TopoDNN \"+type_set+\" LRP Box and Whisker Distribution\")\n",
    "        plt.tight_layout()\n",
    "        if save:\n",
    "            plt.savefig(\"figures/dLRP_MB8S_{}_{}_boxwhisker.png\".format(modelnamesuffix, part_dataset), \n",
    "                        dpi = 150, bbox_inches='tight')\n",
    "        plt.show()"
   ]
  },
  {
   "cell_type": "code",
   "execution_count": 12,
   "id": "40c1ddf9",
   "metadata": {},
   "outputs": [],
   "source": [
    "bkg_indices = labels[:,0] == 1\n",
    "sig_indices = labels[:,0] == 0\n",
    "dresult_presoftmax_bkg = []\n",
    "dresult_presoftmax_sig = []\n",
    "dresult_bkg = []\n",
    "dresult_sig = []\n",
    "for idx in range(len(feat_names)):\n",
    "    dresult_presoftmax_bkg.append(dresult_presoftmax[idx][bkg_indices][:,0])\n",
    "    dresult_presoftmax_sig.append(dresult_presoftmax[idx][sig_indices][:,1])\n",
    "    dresult_bkg.append(dresult[idx][bkg_indices][:,0])\n",
    "    dresult_sig.append(dresult[idx][sig_indices][:,1])"
   ]
  },
  {
   "cell_type": "code",
   "execution_count": 13,
   "id": "01d39c98",
   "metadata": {},
   "outputs": [],
   "source": [
    "dresult_presoftmax_bkg = np.transpose(np.array(dresult_presoftmax_bkg))\n",
    "dresult_presoftmax_sig = np.transpose(np.array(dresult_presoftmax_sig))\n",
    "dresult_bkg = np.transpose(np.array(dresult_bkg))\n",
    "dresult_sig = np.transpose(np.array(dresult_sig))"
   ]
  },
  {
   "cell_type": "code",
   "execution_count": 14,
   "id": "4d65acd3",
   "metadata": {},
   "outputs": [
    {
     "data": {
      "image/png": "[encoded data removed]",
      "text/plain": [
       "<Figure size 360x360 with 1 Axes>"
      ]
     },
     "metadata": {
      "needs_background": "light"
     },
     "output_type": "display_data"
    }
   ],
   "source": [
    "plotmaker(data = dresult_presoftmax_bkg, tags = feat_names, \n",
    "          plot_type = 'abs_bar', part_dataset = 'bkg', \n",
    "          save = True, modelnamesuffix = tag)"
   ]
  },
  {
   "cell_type": "code",
   "execution_count": 15,
   "id": "16508f66",
   "metadata": {},
   "outputs": [
    {
     "data": {
      "image/png": "[encoded data removed]",
      "text/plain": [
       "<Figure size 360x360 with 1 Axes>"
      ]
     },
     "metadata": {
      "needs_background": "light"
     },
     "output_type": "display_data"
    }
   ],
   "source": [
    "plotmaker(data = dresult_presoftmax_sig, tags = feat_names, \n",
    "          plot_type = 'abs_bar', part_dataset = 'sig', \n",
    "          save = True, modelnamesuffix = tag)"
   ]
  }
 ],
 "metadata": {
  "kernelspec": {
   "display_name": "Python 3 (ipykernel)",
   "language": "python",
   "name": "python3"
  },
  "language_info": {
   "codemirror_mode": {
    "name": "ipython",
    "version": 3
   },
   "file_extension": ".py",
   "mimetype": "text/x-python",
   "name": "python",
   "nbconvert_exporter": "python",
   "pygments_lexer": "ipython3",
   "version": "3.9.12"
  }
 },
 "nbformat": 4,
 "nbformat_minor": 5
}
