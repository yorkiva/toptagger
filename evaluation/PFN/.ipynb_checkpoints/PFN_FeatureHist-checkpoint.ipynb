{
 "cells": [
  {
   "cell_type": "code",
   "execution_count": null,
   "id": "a78613c8",
   "metadata": {},
   "outputs": [],
   "source": [
    "import torch\n",
    "import numpy as np\n",
    "import matplotlib.pyplot as plt\n",
    "import pickle\n",
    "#%env HDF5_USE_FILE_LOCKING=FALSE\n",
    "    \n",
    "import sys\n",
    "sys.path.insert(1, '../../models/PFN')\n",
    "from dataset_pfn import PFNDataset"
   ]
  },
  {
   "cell_type": "code",
   "execution_count": null,
   "id": "9de8ca08",
   "metadata": {},
   "outputs": [],
   "source": [
    "#Training/Testing path\n",
    "preprocessed=False\n",
    "if dataset == '':\n",
    "    train_path = \"../../datasets/train.h5\"\n",
    "    val_path = \"../../datasets/val.h5\"\n",
    "    test_path = \"../../datasets/test.h5\"\n",
    "    features=3\n",
    "#model path\n",
    "model_path = '../../models/PFN/models/PFN_'+model_type+dataset+extra_name\n",
    "\n",
    "#Loading training/testing dataset\n",
    "train_set = PFNDataset(train_path)\n",
    "val_set = PFNDataset(val_path)\n",
    "test_set = PFNDataset(test_path)\n",
    "train_data, _, train_label = train_set[:]\n",
    "val_data, _, val_label = val_set[:]\n",
    "test_data, _, test_label = test_set[:]\n",
    "sig_train = train_data[train_label[:,1]==1]\n",
    "sig_val = val_data[val_label[:,1]==1]\n",
    "sig_test = test_data[test_label[:,1]==1]\n",
    "bkg_train = train_data[train_label[:,1]==0]\n",
    "bkg_val = val_data[val_label[:,1]==0]\n",
    "bkg_test = test_data[test_label[:,1]==0]"
   ]
  },
  {
   "cell_type": "code",
   "execution_count": null,
   "id": "9563c25a",
   "metadata": {},
   "outputs": [],
   "source": [
    "#Train feature distribtuions\n",
    "n_bins = 100\n",
    "plt.style.use('seaborn-deep')\n",
    "f, a = plt.subplots(11, 2, constrained_layout=True, figsize=(10,50))\n",
    "f.suptitle('Training PFN Feature Distributions', fontsize=16)\n",
    "a = a.ravel()\n",
    "for idx,ax in enumerate(a):\n",
    "    #ax.axes.yaxis.set_ticklabels([])\n",
    "    ax.hist(sig_train.iloc[:, idx], bins=n_bins, alpha=0.5, label = 'Signal')\n",
    "    ax.hist(bkg_train.iloc[:, idx], bins=n_bins, alpha=0.5, label = 'Bkg')\n",
    "    ax.set_title(sig_train.columns[idx])\n",
    "    ax.legend(loc='upper right')\n",
    "#Saves feature distribution\n",
    "plt.savefig('figures/feature_histograms/train_features_preprocessed'+preprocessed+'.png', dpi = 150, bbox_inches = 'tight')"
   ]
  }
 ],
 "metadata": {
  "kernelspec": {
   "display_name": "Python 3 (ipykernel)",
   "language": "python",
   "name": "python3"
  },
  "language_info": {
   "codemirror_mode": {
    "name": "ipython",
    "version": 3
   },
   "file_extension": ".py",
   "mimetype": "text/x-python",
   "name": "python",
   "nbconvert_exporter": "python",
   "pygments_lexer": "ipython3",
   "version": "3.9.12"
  }
 },
 "nbformat": 4,
 "nbformat_minor": 5
}
